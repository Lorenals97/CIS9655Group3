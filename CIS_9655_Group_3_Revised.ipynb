{
  "nbformat": 4,
  "nbformat_minor": 0,
  "metadata": {
    "colab": {
      "provenance": [],
      "authorship_tag": "ABX9TyOlJeVafbgTY75gRW4WBIsN",
      "include_colab_link": true
    },
    "kernelspec": {
      "name": "python3",
      "display_name": "Python 3"
    },
    "language_info": {
      "name": "python"
    }
  },
  "cells": [
    {
      "cell_type": "markdown",
      "metadata": {
        "id": "view-in-github",
        "colab_type": "text"
      },
      "source": [
        "<a href=\"https://colab.research.google.com/github/Lorenals97/CIS9655Group3/blob/main/CIS_9655_Group_3_Revised.ipynb\" target=\"_parent\"><img src=\"https://colab.research.google.com/assets/colab-badge.svg\" alt=\"Open In Colab\"/></a>"
      ]
    },
    {
      "cell_type": "code",
      "execution_count": 48,
      "metadata": {
        "id": "dWYli1d_KEEy"
      },
      "outputs": [],
      "source": [
        "#Import Libraries \n",
        "\n",
        "import pandas as pd\n",
        "import matplotlib as plt\n",
        "import matplotlib.pyplot as plt\n",
        "import seaborn as sns\n",
        "import numpy as np"
      ]
    },
    {
      "cell_type": "code",
      "source": [
        "#Import the dataset \n",
        "\n",
        "nypd= pd.read_csv('https://raw.githubusercontent.com/Lorenals97/NYPD-Shooting-/main/NYPD_Shooting_Incident_Data__Historic_.csv')"
      ],
      "metadata": {
        "id": "il1Diy6SKNSn"
      },
      "execution_count": 49,
      "outputs": []
    },
    {
      "cell_type": "code",
      "source": [
        "nypd.head()"
      ],
      "metadata": {
        "colab": {
          "base_uri": "https://localhost:8080/",
          "height": 444
        },
        "id": "C85417wuK-AV",
        "outputId": "ddbb12dc-ee28-4eb0-c22f-dae39409bb76"
      },
      "execution_count": 50,
      "outputs": [
        {
          "output_type": "execute_result",
          "data": {
            "text/plain": [
              "   INCIDENT_KEY  OCCUR_DATE OCCUR_TIME      BORO  PRECINCT  JURISDICTION_CODE  \\\n",
              "0     236168668  11/11/2021   15:04:00  BROOKLYN        79                0.0   \n",
              "1     231008085  07/16/2021   22:05:00  BROOKLYN        72                0.0   \n",
              "2     230717903  07/11/2021   01:09:00  BROOKLYN        79                0.0   \n",
              "3     237712309  12/11/2021   13:42:00  BROOKLYN        81                0.0   \n",
              "4     224465521  02/16/2021   20:00:00    QUEENS       113                0.0   \n",
              "\n",
              "  LOCATION_DESC  STATISTICAL_MURDER_FLAG PERP_AGE_GROUP PERP_SEX  \\\n",
              "0           NaN                    False            NaN      NaN   \n",
              "1           NaN                    False          45-64        M   \n",
              "2           NaN                    False            <18        M   \n",
              "3           NaN                    False            NaN      NaN   \n",
              "4           NaN                    False            NaN      NaN   \n",
              "\n",
              "                  PERP_RACE VIC_AGE_GROUP VIC_SEX                  VIC_RACE  \\\n",
              "0                       NaN         18-24       M                     BLACK   \n",
              "1  ASIAN / PACIFIC ISLANDER         25-44       M  ASIAN / PACIFIC ISLANDER   \n",
              "2                     BLACK         25-44       M                     BLACK   \n",
              "3                       NaN         25-44       M                     BLACK   \n",
              "4                       NaN         25-44       M                     BLACK   \n",
              "\n",
              "   X_COORD_CD  Y_COORD_CD   Latitude  Longitude  \\\n",
              "0    996313.0    187499.0  40.681318 -73.956509   \n",
              "1    981845.0    171118.0  40.636364 -74.008667   \n",
              "2    996546.0    187436.0  40.681145 -73.955669   \n",
              "3   1001139.0    192775.0  40.695792 -73.939096   \n",
              "4   1050710.0    184826.0  40.673740 -73.760411   \n",
              "\n",
              "                                        Lon_Lat  \n",
              "0  POINT (-73.95650899099996 40.68131820000008)  \n",
              "1  POINT (-74.00866668999998 40.63636384100005)  \n",
              "2  POINT (-73.95566903799994 40.68114495900005)  \n",
              "3       POINT (-73.939095905 40.69579171600003)  \n",
              "4  POINT (-73.76041066999993 40.67374017600008)  "
            ],
            "text/html": [
              "\n",
              "  <div id=\"df-8fc3b28d-b805-4357-b819-ea296b9a782f\">\n",
              "    <div class=\"colab-df-container\">\n",
              "      <div>\n",
              "<style scoped>\n",
              "    .dataframe tbody tr th:only-of-type {\n",
              "        vertical-align: middle;\n",
              "    }\n",
              "\n",
              "    .dataframe tbody tr th {\n",
              "        vertical-align: top;\n",
              "    }\n",
              "\n",
              "    .dataframe thead th {\n",
              "        text-align: right;\n",
              "    }\n",
              "</style>\n",
              "<table border=\"1\" class=\"dataframe\">\n",
              "  <thead>\n",
              "    <tr style=\"text-align: right;\">\n",
              "      <th></th>\n",
              "      <th>INCIDENT_KEY</th>\n",
              "      <th>OCCUR_DATE</th>\n",
              "      <th>OCCUR_TIME</th>\n",
              "      <th>BORO</th>\n",
              "      <th>PRECINCT</th>\n",
              "      <th>JURISDICTION_CODE</th>\n",
              "      <th>LOCATION_DESC</th>\n",
              "      <th>STATISTICAL_MURDER_FLAG</th>\n",
              "      <th>PERP_AGE_GROUP</th>\n",
              "      <th>PERP_SEX</th>\n",
              "      <th>PERP_RACE</th>\n",
              "      <th>VIC_AGE_GROUP</th>\n",
              "      <th>VIC_SEX</th>\n",
              "      <th>VIC_RACE</th>\n",
              "      <th>X_COORD_CD</th>\n",
              "      <th>Y_COORD_CD</th>\n",
              "      <th>Latitude</th>\n",
              "      <th>Longitude</th>\n",
              "      <th>Lon_Lat</th>\n",
              "    </tr>\n",
              "  </thead>\n",
              "  <tbody>\n",
              "    <tr>\n",
              "      <th>0</th>\n",
              "      <td>236168668</td>\n",
              "      <td>11/11/2021</td>\n",
              "      <td>15:04:00</td>\n",
              "      <td>BROOKLYN</td>\n",
              "      <td>79</td>\n",
              "      <td>0.0</td>\n",
              "      <td>NaN</td>\n",
              "      <td>False</td>\n",
              "      <td>NaN</td>\n",
              "      <td>NaN</td>\n",
              "      <td>NaN</td>\n",
              "      <td>18-24</td>\n",
              "      <td>M</td>\n",
              "      <td>BLACK</td>\n",
              "      <td>996313.0</td>\n",
              "      <td>187499.0</td>\n",
              "      <td>40.681318</td>\n",
              "      <td>-73.956509</td>\n",
              "      <td>POINT (-73.95650899099996 40.68131820000008)</td>\n",
              "    </tr>\n",
              "    <tr>\n",
              "      <th>1</th>\n",
              "      <td>231008085</td>\n",
              "      <td>07/16/2021</td>\n",
              "      <td>22:05:00</td>\n",
              "      <td>BROOKLYN</td>\n",
              "      <td>72</td>\n",
              "      <td>0.0</td>\n",
              "      <td>NaN</td>\n",
              "      <td>False</td>\n",
              "      <td>45-64</td>\n",
              "      <td>M</td>\n",
              "      <td>ASIAN / PACIFIC ISLANDER</td>\n",
              "      <td>25-44</td>\n",
              "      <td>M</td>\n",
              "      <td>ASIAN / PACIFIC ISLANDER</td>\n",
              "      <td>981845.0</td>\n",
              "      <td>171118.0</td>\n",
              "      <td>40.636364</td>\n",
              "      <td>-74.008667</td>\n",
              "      <td>POINT (-74.00866668999998 40.63636384100005)</td>\n",
              "    </tr>\n",
              "    <tr>\n",
              "      <th>2</th>\n",
              "      <td>230717903</td>\n",
              "      <td>07/11/2021</td>\n",
              "      <td>01:09:00</td>\n",
              "      <td>BROOKLYN</td>\n",
              "      <td>79</td>\n",
              "      <td>0.0</td>\n",
              "      <td>NaN</td>\n",
              "      <td>False</td>\n",
              "      <td>&lt;18</td>\n",
              "      <td>M</td>\n",
              "      <td>BLACK</td>\n",
              "      <td>25-44</td>\n",
              "      <td>M</td>\n",
              "      <td>BLACK</td>\n",
              "      <td>996546.0</td>\n",
              "      <td>187436.0</td>\n",
              "      <td>40.681145</td>\n",
              "      <td>-73.955669</td>\n",
              "      <td>POINT (-73.95566903799994 40.68114495900005)</td>\n",
              "    </tr>\n",
              "    <tr>\n",
              "      <th>3</th>\n",
              "      <td>237712309</td>\n",
              "      <td>12/11/2021</td>\n",
              "      <td>13:42:00</td>\n",
              "      <td>BROOKLYN</td>\n",
              "      <td>81</td>\n",
              "      <td>0.0</td>\n",
              "      <td>NaN</td>\n",
              "      <td>False</td>\n",
              "      <td>NaN</td>\n",
              "      <td>NaN</td>\n",
              "      <td>NaN</td>\n",
              "      <td>25-44</td>\n",
              "      <td>M</td>\n",
              "      <td>BLACK</td>\n",
              "      <td>1001139.0</td>\n",
              "      <td>192775.0</td>\n",
              "      <td>40.695792</td>\n",
              "      <td>-73.939096</td>\n",
              "      <td>POINT (-73.939095905 40.69579171600003)</td>\n",
              "    </tr>\n",
              "    <tr>\n",
              "      <th>4</th>\n",
              "      <td>224465521</td>\n",
              "      <td>02/16/2021</td>\n",
              "      <td>20:00:00</td>\n",
              "      <td>QUEENS</td>\n",
              "      <td>113</td>\n",
              "      <td>0.0</td>\n",
              "      <td>NaN</td>\n",
              "      <td>False</td>\n",
              "      <td>NaN</td>\n",
              "      <td>NaN</td>\n",
              "      <td>NaN</td>\n",
              "      <td>25-44</td>\n",
              "      <td>M</td>\n",
              "      <td>BLACK</td>\n",
              "      <td>1050710.0</td>\n",
              "      <td>184826.0</td>\n",
              "      <td>40.673740</td>\n",
              "      <td>-73.760411</td>\n",
              "      <td>POINT (-73.76041066999993 40.67374017600008)</td>\n",
              "    </tr>\n",
              "  </tbody>\n",
              "</table>\n",
              "</div>\n",
              "      <button class=\"colab-df-convert\" onclick=\"convertToInteractive('df-8fc3b28d-b805-4357-b819-ea296b9a782f')\"\n",
              "              title=\"Convert this dataframe to an interactive table.\"\n",
              "              style=\"display:none;\">\n",
              "        \n",
              "  <svg xmlns=\"http://www.w3.org/2000/svg\" height=\"24px\"viewBox=\"0 0 24 24\"\n",
              "       width=\"24px\">\n",
              "    <path d=\"M0 0h24v24H0V0z\" fill=\"none\"/>\n",
              "    <path d=\"M18.56 5.44l.94 2.06.94-2.06 2.06-.94-2.06-.94-.94-2.06-.94 2.06-2.06.94zm-11 1L8.5 8.5l.94-2.06 2.06-.94-2.06-.94L8.5 2.5l-.94 2.06-2.06.94zm10 10l.94 2.06.94-2.06 2.06-.94-2.06-.94-.94-2.06-.94 2.06-2.06.94z\"/><path d=\"M17.41 7.96l-1.37-1.37c-.4-.4-.92-.59-1.43-.59-.52 0-1.04.2-1.43.59L10.3 9.45l-7.72 7.72c-.78.78-.78 2.05 0 2.83L4 21.41c.39.39.9.59 1.41.59.51 0 1.02-.2 1.41-.59l7.78-7.78 2.81-2.81c.8-.78.8-2.07 0-2.86zM5.41 20L4 18.59l7.72-7.72 1.47 1.35L5.41 20z\"/>\n",
              "  </svg>\n",
              "      </button>\n",
              "      \n",
              "  <style>\n",
              "    .colab-df-container {\n",
              "      display:flex;\n",
              "      flex-wrap:wrap;\n",
              "      gap: 12px;\n",
              "    }\n",
              "\n",
              "    .colab-df-convert {\n",
              "      background-color: #E8F0FE;\n",
              "      border: none;\n",
              "      border-radius: 50%;\n",
              "      cursor: pointer;\n",
              "      display: none;\n",
              "      fill: #1967D2;\n",
              "      height: 32px;\n",
              "      padding: 0 0 0 0;\n",
              "      width: 32px;\n",
              "    }\n",
              "\n",
              "    .colab-df-convert:hover {\n",
              "      background-color: #E2EBFA;\n",
              "      box-shadow: 0px 1px 2px rgba(60, 64, 67, 0.3), 0px 1px 3px 1px rgba(60, 64, 67, 0.15);\n",
              "      fill: #174EA6;\n",
              "    }\n",
              "\n",
              "    [theme=dark] .colab-df-convert {\n",
              "      background-color: #3B4455;\n",
              "      fill: #D2E3FC;\n",
              "    }\n",
              "\n",
              "    [theme=dark] .colab-df-convert:hover {\n",
              "      background-color: #434B5C;\n",
              "      box-shadow: 0px 1px 3px 1px rgba(0, 0, 0, 0.15);\n",
              "      filter: drop-shadow(0px 1px 2px rgba(0, 0, 0, 0.3));\n",
              "      fill: #FFFFFF;\n",
              "    }\n",
              "  </style>\n",
              "\n",
              "      <script>\n",
              "        const buttonEl =\n",
              "          document.querySelector('#df-8fc3b28d-b805-4357-b819-ea296b9a782f button.colab-df-convert');\n",
              "        buttonEl.style.display =\n",
              "          google.colab.kernel.accessAllowed ? 'block' : 'none';\n",
              "\n",
              "        async function convertToInteractive(key) {\n",
              "          const element = document.querySelector('#df-8fc3b28d-b805-4357-b819-ea296b9a782f');\n",
              "          const dataTable =\n",
              "            await google.colab.kernel.invokeFunction('convertToInteractive',\n",
              "                                                     [key], {});\n",
              "          if (!dataTable) return;\n",
              "\n",
              "          const docLinkHtml = 'Like what you see? Visit the ' +\n",
              "            '<a target=\"_blank\" href=https://colab.research.google.com/notebooks/data_table.ipynb>data table notebook</a>'\n",
              "            + ' to learn more about interactive tables.';\n",
              "          element.innerHTML = '';\n",
              "          dataTable['output_type'] = 'display_data';\n",
              "          await google.colab.output.renderOutput(dataTable, element);\n",
              "          const docLink = document.createElement('div');\n",
              "          docLink.innerHTML = docLinkHtml;\n",
              "          element.appendChild(docLink);\n",
              "        }\n",
              "      </script>\n",
              "    </div>\n",
              "  </div>\n",
              "  "
            ]
          },
          "metadata": {},
          "execution_count": 50
        }
      ]
    },
    {
      "cell_type": "code",
      "source": [
        "#Viewing the dimensions of the dataframe\n",
        "\n",
        "nypd.shape"
      ],
      "metadata": {
        "colab": {
          "base_uri": "https://localhost:8080/"
        },
        "id": "SR3q867vK_Zf",
        "outputId": "604e942c-6c4a-413f-cefc-7babb7354842"
      },
      "execution_count": 51,
      "outputs": [
        {
          "output_type": "execute_result",
          "data": {
            "text/plain": [
              "(25596, 19)"
            ]
          },
          "metadata": {},
          "execution_count": 51
        }
      ]
    },
    {
      "cell_type": "code",
      "source": [
        "#Checking for missing values  \n",
        "nypd.isnull().sum()"
      ],
      "metadata": {
        "colab": {
          "base_uri": "https://localhost:8080/"
        },
        "id": "hML65PKKLTLa",
        "outputId": "c85f6c9c-0038-4ded-a945-d88ada00f850"
      },
      "execution_count": 52,
      "outputs": [
        {
          "output_type": "execute_result",
          "data": {
            "text/plain": [
              "INCIDENT_KEY                   0\n",
              "OCCUR_DATE                     0\n",
              "OCCUR_TIME                     0\n",
              "BORO                           0\n",
              "PRECINCT                       0\n",
              "JURISDICTION_CODE              2\n",
              "LOCATION_DESC              14977\n",
              "STATISTICAL_MURDER_FLAG        0\n",
              "PERP_AGE_GROUP              9344\n",
              "PERP_SEX                    9310\n",
              "PERP_RACE                   9310\n",
              "VIC_AGE_GROUP                  0\n",
              "VIC_SEX                        0\n",
              "VIC_RACE                       0\n",
              "X_COORD_CD                     0\n",
              "Y_COORD_CD                     0\n",
              "Latitude                       0\n",
              "Longitude                      0\n",
              "Lon_Lat                        0\n",
              "dtype: int64"
            ]
          },
          "metadata": {},
          "execution_count": 52
        }
      ]
    },
    {
      "cell_type": "code",
      "source": [
        "#Dropping some columns location has about 14k missing values , and incident key is an ID so its not necessary for analysis \n",
        "nypd = nypd.drop(['LOCATION_DESC','INCIDENT_KEY'], axis=1)"
      ],
      "metadata": {
        "id": "xwitny0JNAmt"
      },
      "execution_count": 53,
      "outputs": []
    },
    {
      "cell_type": "code",
      "source": [
        "#Dropping the rows in which there are missing values \n",
        "nypd = nypd.dropna()"
      ],
      "metadata": {
        "id": "bCWTMrEeLu5y"
      },
      "execution_count": 54,
      "outputs": []
    },
    {
      "cell_type": "code",
      "source": [
        "#check for missing values again to make sure \n",
        "\n",
        "nypd.isnull().sum()"
      ],
      "metadata": {
        "colab": {
          "base_uri": "https://localhost:8080/"
        },
        "id": "SsJl-bT9L8Q5",
        "outputId": "5078e007-6444-4f4e-fb79-51fa7b190832"
      },
      "execution_count": 55,
      "outputs": [
        {
          "output_type": "execute_result",
          "data": {
            "text/plain": [
              "OCCUR_DATE                 0\n",
              "OCCUR_TIME                 0\n",
              "BORO                       0\n",
              "PRECINCT                   0\n",
              "JURISDICTION_CODE          0\n",
              "STATISTICAL_MURDER_FLAG    0\n",
              "PERP_AGE_GROUP             0\n",
              "PERP_SEX                   0\n",
              "PERP_RACE                  0\n",
              "VIC_AGE_GROUP              0\n",
              "VIC_SEX                    0\n",
              "VIC_RACE                   0\n",
              "X_COORD_CD                 0\n",
              "Y_COORD_CD                 0\n",
              "Latitude                   0\n",
              "Longitude                  0\n",
              "Lon_Lat                    0\n",
              "dtype: int64"
            ]
          },
          "metadata": {},
          "execution_count": 55
        }
      ]
    },
    {
      "cell_type": "code",
      "source": [
        "nypd.shape #The resulting dataset is 16,250 rows and 17 columns "
      ],
      "metadata": {
        "colab": {
          "base_uri": "https://localhost:8080/"
        },
        "id": "kaUkuiIOMFEX",
        "outputId": "c49b80b8-02c4-43dc-d4df-98f9b33e9b59"
      },
      "execution_count": 56,
      "outputs": [
        {
          "output_type": "execute_result",
          "data": {
            "text/plain": [
              "(16250, 17)"
            ]
          },
          "metadata": {},
          "execution_count": 56
        }
      ]
    },
    {
      "cell_type": "code",
      "source": [
        "#Heatmap showing correlation \n",
        "\n",
        "corr = nypd.corr()\n",
        "\n",
        "sns.heatmap(corr).set(title= 'Correlation of NYPD Shooting Historic Data')\n",
        "plt.show()"
      ],
      "metadata": {
        "colab": {
          "base_uri": "https://localhost:8080/",
          "height": 412
        },
        "id": "H1tlRtkhMHWP",
        "outputId": "2ad0a07d-f312-4963-a900-c3852276dfdf"
      },
      "execution_count": 57,
      "outputs": [
        {
          "output_type": "display_data",
          "data": {
            "text/plain": [
              "<Figure size 720x288 with 2 Axes>"
            ],
            "image/png": "[encoded data removed]"
          },
          "metadata": {
            "needs_background": "light"
          }
        }
      ]
    },
    {
      "cell_type": "markdown",
      "source": [
        "**Part 1: Date/Time Data NYPD Historic Shooting (Lorena Severino)**\n",
        "\n",
        "---\n",
        "\n"
      ],
      "metadata": {
        "id": "DsJCJyD5VwbU"
      }
    },
    {
      "cell_type": "code",
      "source": [
        "#Convert to datetime data type to extract year and month , and add year and month columns to dataframe\n",
        "\n",
        "date_col = (pd.DatetimeIndex(nypd['OCCUR_DATE']))\n",
        "time_col = (pd.DatetimeIndex(nypd['OCCUR_TIME']))\n",
        "\n",
        "#print(date_values)\n",
        "\n",
        "nypd['Year'] = date_col.year\n",
        "nypd['Month'] = date_col.month\n",
        "nypd['Day'] = date_col.weekday\n",
        "nypd['Hour'] = time_col.hour\n",
        "\n",
        "print(nypd)\n"
      ],
      "metadata": {
        "colab": {
          "base_uri": "https://localhost:8080/"
        },
        "id": "eil6R6GpEKaU",
        "outputId": "06ab6a66-e063-4d80-f5dd-6f1f399a0b7e"
      },
      "execution_count": 58,
      "outputs": [
        {
          "output_type": "stream",
          "name": "stdout",
          "text": [
            "       OCCUR_DATE OCCUR_TIME       BORO  PRECINCT  JURISDICTION_CODE  \\\n",
            "1      07/16/2021   22:05:00   BROOKLYN        72                0.0   \n",
            "2      07/11/2021   01:09:00   BROOKLYN        79                0.0   \n",
            "9      03/07/2021   06:15:00   BROOKLYN        75                0.0   \n",
            "10     07/21/2021   00:40:00  MANHATTAN        32                0.0   \n",
            "12     05/09/2021   02:50:00      BRONX        41                2.0   \n",
            "...           ...        ...        ...       ...                ...   \n",
            "25589  06/25/2009   23:20:00     QUEENS       110                0.0   \n",
            "25591  08/12/2018   19:50:00   BROOKLYN        84                0.0   \n",
            "25593  02/25/2011   01:12:00   BROOKLYN        81                0.0   \n",
            "25594  03/17/2018   00:46:00      BRONX        43                0.0   \n",
            "25595  10/05/2020   12:00:00     QUEENS       113                0.0   \n",
            "\n",
            "       STATISTICAL_MURDER_FLAG PERP_AGE_GROUP PERP_SEX  \\\n",
            "1                        False          45-64        M   \n",
            "2                        False            <18        M   \n",
            "9                         True          25-44        M   \n",
            "10                       False          25-44        M   \n",
            "12                        True          25-44        M   \n",
            "...                        ...            ...      ...   \n",
            "25589                    False        UNKNOWN        U   \n",
            "25591                    False          25-44        M   \n",
            "25593                    False          18-24        M   \n",
            "25594                    False          25-44        M   \n",
            "25595                    False          25-44        M   \n",
            "\n",
            "                      PERP_RACE VIC_AGE_GROUP  ...                  VIC_RACE  \\\n",
            "1      ASIAN / PACIFIC ISLANDER         25-44  ...  ASIAN / PACIFIC ISLANDER   \n",
            "2                         BLACK         25-44  ...                     BLACK   \n",
            "9                BLACK HISPANIC         25-44  ...            WHITE HISPANIC   \n",
            "10                        BLACK         25-44  ...                     BLACK   \n",
            "12                        BLACK         25-44  ...            BLACK HISPANIC   \n",
            "...                         ...           ...  ...                       ...   \n",
            "25589                   UNKNOWN         18-24  ...                     BLACK   \n",
            "25591                     BLACK           65+  ...                     BLACK   \n",
            "25593                     BLACK           <18  ...                     BLACK   \n",
            "25594                   UNKNOWN         25-44  ...            WHITE HISPANIC   \n",
            "25595                     BLACK         25-44  ...                     BLACK   \n",
            "\n",
            "         X_COORD_CD     Y_COORD_CD   Latitude  Longitude  \\\n",
            "1      9.818450e+05  171118.000000  40.636364 -74.008667   \n",
            "2      9.965460e+05  187436.000000  40.681145 -73.955669   \n",
            "9      1.020492e+06  187865.000000  40.682257 -73.869331   \n",
            "10     9.980940e+05  235038.000000  40.811798 -73.949990   \n",
            "12     1.014642e+06  240068.000000  40.825563 -73.890187   \n",
            "...             ...            ...        ...        ...   \n",
            "25589  1.021804e+06  207825.171875  40.737037 -73.864490   \n",
            "25591  9.891547e+05  193164.265625  40.696875 -73.982314   \n",
            "25593  1.003999e+06  187611.031250  40.681612 -73.928798   \n",
            "25594  1.018728e+06  242744.234375  40.832893 -73.875408   \n",
            "25595  1.049416e+06  183677.000000  40.670596 -73.765087   \n",
            "\n",
            "                                             Lon_Lat  Year  Month  Day  Hour  \n",
            "1       POINT (-74.00866668999998 40.63636384100005)  2021      7    4    22  \n",
            "2       POINT (-73.95566903799994 40.68114495900005)  2021      7    6     1  \n",
            "9       POINT (-73.86933111399996 40.68225681500007)  2021      3    6     6  \n",
            "10     POINT (-73.94998985099994 40.811798195000044)  2021      7    2     0  \n",
            "12      POINT (-73.89018728699995 40.82556269400004)  2021      5    6     2  \n",
            "...                                              ...   ...    ...  ...   ...  \n",
            "25589   POINT (-73.86449006199996 40.73703722900007)  2009      6    3    23  \n",
            "25591   POINT (-73.98231375199998 40.69687491500008)  2018      8    6    19  \n",
            "25593  POINT (-73.92879814299994 40.681611891000045)  2011      2    4     1  \n",
            "25594   POINT (-73.87540796899998 40.83289318000004)  2018      3    5     0  \n",
            "25595   POINT (-73.76508667399997 40.67059605900005)  2020     10    0    12  \n",
            "\n",
            "[16250 rows x 21 columns]\n"
          ]
        }
      ]
    },
    {
      "cell_type": "code",
      "source": [
        "#Double Checking our Columns \n",
        "\n",
        "nypd.columns"
      ],
      "metadata": {
        "colab": {
          "base_uri": "https://localhost:8080/"
        },
        "id": "u4OrX-_cF9wH",
        "outputId": "578c9343-2cde-4edb-ef0e-9f41a77b94b3"
      },
      "execution_count": 59,
      "outputs": [
        {
          "output_type": "execute_result",
          "data": {
            "text/plain": [
              "Index(['OCCUR_DATE', 'OCCUR_TIME', 'BORO', 'PRECINCT', 'JURISDICTION_CODE',\n",
              "       'STATISTICAL_MURDER_FLAG', 'PERP_AGE_GROUP', 'PERP_SEX', 'PERP_RACE',\n",
              "       'VIC_AGE_GROUP', 'VIC_SEX', 'VIC_RACE', 'X_COORD_CD', 'Y_COORD_CD',\n",
              "       'Latitude', 'Longitude', 'Lon_Lat', 'Year', 'Month', 'Day', 'Hour'],\n",
              "      dtype='object')"
            ]
          },
          "metadata": {},
          "execution_count": 59
        }
      ]
    },
    {
      "cell_type": "code",
      "source": [
        "#Incident Counts by Year\n",
        "\n",
        "inc_year = nypd.groupby('Year')\n",
        "inc_year_1 = inc_year['Year'].count()\n",
        "inc_year_1"
      ],
      "metadata": {
        "colab": {
          "base_uri": "https://localhost:8080/"
        },
        "id": "L5zzsvs4GpAJ",
        "outputId": "f1187a44-aedb-42c0-beae-b6aaf0826749"
      },
      "execution_count": 60,
      "outputs": [
        {
          "output_type": "execute_result",
          "data": {
            "text/plain": [
              "Year\n",
              "2006    1890\n",
              "2007    1605\n",
              "2008    1737\n",
              "2009    1639\n",
              "2010    1214\n",
              "2011     992\n",
              "2012     825\n",
              "2013     698\n",
              "2014     733\n",
              "2015     766\n",
              "2016     640\n",
              "2017     578\n",
              "2018     549\n",
              "2019     544\n",
              "2020     878\n",
              "2021     962\n",
              "Name: Year, dtype: int64"
            ]
          },
          "metadata": {},
          "execution_count": 60
        }
      ]
    },
    {
      "cell_type": "code",
      "source": [
        "#Incident Counts by Month\n",
        "\n",
        "inc_month = nypd.groupby('Month')\n",
        "inc_month_1 = inc_month['Month'].count()\n",
        "inc_month_1"
      ],
      "metadata": {
        "colab": {
          "base_uri": "https://localhost:8080/"
        },
        "id": "36T6Ch7AHvFj",
        "outputId": "d29267c3-1426-4282-e2d1-63d983b1e8b5"
      },
      "execution_count": 61,
      "outputs": [
        {
          "output_type": "execute_result",
          "data": {
            "text/plain": [
              "Month\n",
              "1     1107\n",
              "2      840\n",
              "3     1046\n",
              "4     1251\n",
              "5     1558\n",
              "6     1660\n",
              "7     1824\n",
              "8     1812\n",
              "9     1492\n",
              "10    1366\n",
              "11    1168\n",
              "12    1126\n",
              "Name: Month, dtype: int64"
            ]
          },
          "metadata": {},
          "execution_count": 61
        }
      ]
    },
    {
      "cell_type": "code",
      "source": [
        "#Incident Counts by Day\n",
        "\n",
        "inc_day = nypd.groupby('Day')\n",
        "inc_day_1 = inc_day['Day'].count()\n",
        "inc_day_1"
      ],
      "metadata": {
        "colab": {
          "base_uri": "https://localhost:8080/"
        },
        "id": "mlLo6RgJKwHw",
        "outputId": "77e5dc57-9fbe-4dcb-fa04-02acb7fc52f6"
      },
      "execution_count": 62,
      "outputs": [
        {
          "output_type": "execute_result",
          "data": {
            "text/plain": [
              "Day\n",
              "0    2234\n",
              "1    1933\n",
              "2    1847\n",
              "3    1799\n",
              "4    2177\n",
              "5    3080\n",
              "6    3180\n",
              "Name: Day, dtype: int64"
            ]
          },
          "metadata": {},
          "execution_count": 62
        }
      ]
    },
    {
      "cell_type": "code",
      "source": [
        "#Incident Counts by Hour\n",
        "\n",
        "inc_hour = nypd.groupby('Hour')\n",
        "inc_hour_1 = inc_hour['Hour'].count()\n",
        "inc_hour_1"
      ],
      "metadata": {
        "colab": {
          "base_uri": "https://localhost:8080/"
        },
        "id": "Ik8LZcoTQ74I",
        "outputId": "2203d4db-a77c-4f69-e424-85440ef60945"
      },
      "execution_count": 63,
      "outputs": [
        {
          "output_type": "execute_result",
          "data": {
            "text/plain": [
              "Hour\n",
              "0     1176\n",
              "1     1164\n",
              "2     1003\n",
              "3      940\n",
              "4      825\n",
              "5      415\n",
              "6      214\n",
              "7      162\n",
              "8      133\n",
              "9      155\n",
              "10     184\n",
              "11     262\n",
              "12     319\n",
              "13     350\n",
              "14     539\n",
              "15     631\n",
              "16     671\n",
              "17     703\n",
              "18     786\n",
              "19     881\n",
              "20     974\n",
              "21    1214\n",
              "22    1204\n",
              "23    1345\n",
              "Name: Hour, dtype: int64"
            ]
          },
          "metadata": {},
          "execution_count": 63
        }
      ]
    },
    {
      "cell_type": "code",
      "source": [
        "#Bar Chart showing Shooting Incidents by Year\n",
        "\n",
        "inc_year_plot = inc_year_1.plot(kind='bar', color = 'c')\n",
        "inc_year_plot.set_xlabel(\"Year\",fontsize = 14)\n",
        "inc_year_plot.set_ylabel(\"Number of Shooting Cases\",fontsize = 14)\n",
        "inc_year_plot.set_title(\"Number of Shooting Cases by Year\",fontsize = 20)\n",
        "plt.show()"
      ],
      "metadata": {
        "colab": {
          "base_uri": "https://localhost:8080/",
          "height": 320
        },
        "id": "L7lDUihJI8oc",
        "outputId": "bed582a5-cb0b-4c41-a191-fe3797fb8fa9"
      },
      "execution_count": 64,
      "outputs": [
        {
          "output_type": "display_data",
          "data": {
            "text/plain": [
              "<Figure size 720x288 with 1 Axes>"
            ],
            "image/png": "[encoded data removed]"
          },
          "metadata": {
            "needs_background": "light"
          }
        }
      ]
    },
    {
      "cell_type": "code",
      "source": [
        "#Bar Chart showing Shooting Incidents by Month\n",
        "\n",
        "inc_month_plot = inc_month_1.plot(kind='bar', color= 'b')\n",
        "inc_month_plot.set_xlabel(\"Month\",fontsize = 14)\n",
        "inc_month_plot.set_ylabel(\"Number of Shooting Cases\",fontsize = 14)\n",
        "inc_month_plot.set_title(\"Number of Shooting Cases by Month\",fontsize = 20)\n",
        "plt.show()"
      ],
      "metadata": {
        "colab": {
          "base_uri": "https://localhost:8080/",
          "height": 307
        },
        "id": "z42tIyhIJ7Sh",
        "outputId": "d5a36744-27ac-4a74-9fae-6f288d734c06"
      },
      "execution_count": 65,
      "outputs": [
        {
          "output_type": "display_data",
          "data": {
            "text/plain": [
              "<Figure size 720x288 with 1 Axes>"
            ],
            "image/png": "[encoded data removed]"
          },
          "metadata": {
            "needs_background": "light"
          }
        }
      ]
    },
    {
      "cell_type": "code",
      "source": [
        "#Bar Chart showing Shooting Incidents by Day of the Week (Zero is Monday)\n",
        "\n",
        "inc_day_plot = inc_day_1.plot(kind='bar', color = 'y')\n",
        "inc_day_plot.set_xlabel(\"Day\",fontsize = 14)\n",
        "inc_day_plot.set_ylabel(\"Number of Shooting Cases\", fontsize = 14)\n",
        "inc_day_plot.set_title(\"Number of Shooting Cases by Day\", fontsize = 20)\n",
        "plt.show()"
      ],
      "metadata": {
        "colab": {
          "base_uri": "https://localhost:8080/",
          "height": 301
        },
        "id": "_4g4qUGWLrmK",
        "outputId": "c6a66221-fb12-42e6-a56e-d9e4de0e1aaa"
      },
      "execution_count": 66,
      "outputs": [
        {
          "output_type": "display_data",
          "data": {
            "text/plain": [
              "<Figure size 720x288 with 1 Axes>"
            ],
            "image/png": "[encoded data removed]"
          },
          "metadata": {
            "needs_background": "light"
          }
        }
      ]
    },
    {
      "cell_type": "code",
      "source": [
        "#Line plot showing Shooting incidents by the hour (universal time)\n",
        "\n",
        "plt.plot(inc_hour_1,color ='g', marker='o')\n",
        "plt.xlabel('Hour', fontsize = 14)\n",
        "plt.ylabel('Number of Shooting Incidents', fontsize = 14)\n",
        "plt.title('Shooting Incidents by Hour', fontsize = 20)\n",
        "plt.show()"
      ],
      "metadata": {
        "colab": {
          "base_uri": "https://localhost:8080/",
          "height": 304
        },
        "id": "3esgdGVeSExU",
        "outputId": "682da7e9-d7e2-4379-db99-cff2d02eb9bf"
      },
      "execution_count": 67,
      "outputs": [
        {
          "output_type": "display_data",
          "data": {
            "text/plain": [
              "<Figure size 720x288 with 1 Axes>"
            ],
            "image/png": "[encoded data removed]"
          },
          "metadata": {
            "needs_background": "light"
          }
        }
      ]
    },
    {
      "cell_type": "code",
      "source": [
        "#Looking further into Shooting incidents and Covid\n",
        "\n",
        "precovid = nypd[nypd['Year'] == 2019]\n",
        "covid = nypd[nypd['Year'] == 2020]\n",
        "postcovid = nypd[nypd['Year'] == 2021]\n"
      ],
      "metadata": {
        "id": "sUjNjKZcWRgP"
      },
      "execution_count": 68,
      "outputs": []
    },
    {
      "cell_type": "code",
      "source": [
        "precovid_1 = precovid.groupby('Month')\n",
        "precovid_2 = precovid_1['Month'].count()\n",
        "precovid_2\n",
        "\n",
        "covid_1 = covid.groupby('Month')\n",
        "covid_2 = covid_1['Month'].count()\n",
        "covid_2\n",
        "\n",
        "postcovid_1 = postcovid.groupby('Month')\n",
        "postcovid_2 = postcovid_1['Month'].count()\n",
        "postcovid_2"
      ],
      "metadata": {
        "colab": {
          "base_uri": "https://localhost:8080/"
        },
        "id": "9kPSCFphyUMq",
        "outputId": "40b06031-af6b-4e01-bab3-65386e668eb6"
      },
      "execution_count": 69,
      "outputs": [
        {
          "output_type": "execute_result",
          "data": {
            "text/plain": [
              "Month\n",
              "1      56\n",
              "2      49\n",
              "3      77\n",
              "4      90\n",
              "5     118\n",
              "6     103\n",
              "7      92\n",
              "8     104\n",
              "9      93\n",
              "10     76\n",
              "11     65\n",
              "12     39\n",
              "Name: Month, dtype: int64"
            ]
          },
          "metadata": {},
          "execution_count": 69
        }
      ]
    },
    {
      "cell_type": "code",
      "source": [
        "#Line Chart to show Shootings by Month over Covid Years (2019-2021)\n",
        "\n",
        "line1 = plt.plot(precovid_2)\n",
        "line2 = plt.plot(covid_2)\n",
        "line3 = plt.plot(postcovid_2)\n",
        "\n",
        "plt.xlabel('Month', fontsize = 12)\n",
        "plt.ylabel('Number of Shooting Incidents', fontsize = 12)\n",
        "plt.title('Shooting Incidents 2019-2021 by Month', fontsize = 18)\n",
        "plt.legend(['Precovid', 'Covid','Postcovid'], loc=2)\n",
        "plt.rcParams['figure.figsize'] = [10 , 4]\n",
        "plt.annotate(xy=[5.5, 80], s='Spike in 2020')\n",
        "\n",
        "plt.show()"
      ],
      "metadata": {
        "colab": {
          "base_uri": "https://localhost:8080/",
          "height": 302
        },
        "id": "aIVQQe6dbSDH",
        "outputId": "f290f8cb-c201-4bf8-bf81-28eddae849d2"
      },
      "execution_count": 70,
      "outputs": [
        {
          "output_type": "display_data",
          "data": {
            "text/plain": [
              "<Figure size 720x288 with 1 Axes>"
            ],
            "image/png": "[encoded data removed]"
          },
          "metadata": {
            "needs_background": "light"
          }
        }
      ]
    },
    {
      "cell_type": "code",
      "source": [
        "precovid_h_1 = precovid.groupby('Hour')\n",
        "precovid_h_2 = precovid_h_1['Hour'].count()\n",
        "precovid_h_2\n",
        "\n",
        "covid_h_1 = covid.groupby('Hour')\n",
        "covid_h_2 = covid_h_1['Hour'].count()\n",
        "covid_h_2\n",
        "\n",
        "postcovid_h_1 = postcovid.groupby('Hour')\n",
        "postcovid_h_2 = postcovid_h_1['Hour'].count()\n",
        "postcovid_h_2"
      ],
      "metadata": {
        "colab": {
          "base_uri": "https://localhost:8080/"
        },
        "id": "PqFo6hNQguS1",
        "outputId": "ac56fc30-f659-49c5-94a0-d1a17b22646f"
      },
      "execution_count": 71,
      "outputs": [
        {
          "output_type": "execute_result",
          "data": {
            "text/plain": [
              "Hour\n",
              "0      40\n",
              "1      44\n",
              "2      45\n",
              "3      31\n",
              "4      28\n",
              "5      16\n",
              "6      16\n",
              "7      17\n",
              "8      13\n",
              "9      15\n",
              "10     12\n",
              "11     12\n",
              "12     30\n",
              "13     36\n",
              "14     26\n",
              "15     42\n",
              "16     56\n",
              "17     55\n",
              "18     45\n",
              "19     60\n",
              "20     69\n",
              "21     72\n",
              "22     78\n",
              "23    104\n",
              "Name: Hour, dtype: int64"
            ]
          },
          "metadata": {},
          "execution_count": 71
        }
      ]
    },
    {
      "cell_type": "code",
      "source": [
        "#Line Chart to show Shootings by Hour over Covid Years (2019-2021)\n",
        "\n",
        "line1 = plt.plot(precovid_h_2)\n",
        "line2 = plt.plot(covid_h_2)\n",
        "line3 = plt.plot(postcovid_h_2)\n",
        "\n",
        "plt.xlabel('Hour', fontsize = 12)\n",
        "plt.ylabel('Number of Shooting Incidents', fontsize = 12)\n",
        "plt.title('Shooting Incidents 2019-2021 by Hour', fontsize = 18)\n",
        "plt.legend(['Precovid', 'Covid','Postcovid'], loc=2)\n",
        "plt.rcParams['figure.figsize'] = [10 , 4]\n",
        "plt.annotate(xy=[2, 70], s='2019:Spike 12-2AM')\n",
        "\n",
        "plt.show()"
      ],
      "metadata": {
        "colab": {
          "base_uri": "https://localhost:8080/",
          "height": 302
        },
        "id": "gNHa47SpuEHu",
        "outputId": "58039c6c-18c8-4307-b18b-82864e05df67"
      },
      "execution_count": 72,
      "outputs": [
        {
          "output_type": "display_data",
          "data": {
            "text/plain": [
              "<Figure size 720x288 with 1 Axes>"
            ],
            "image/png": "[encoded data removed]"
          },
          "metadata": {
            "needs_background": "light"
          }
        }
      ]
    },
    {
      "cell_type": "code",
      "source": [],
      "metadata": {
        "id": "I58291gnuPva"
      },
      "execution_count": 72,
      "outputs": []
    },
    {
      "cell_type": "markdown",
      "source": [
        "**Part 2: Location Data NYPD Historic Shooting (Chengzhi Zheng)**"
      ],
      "metadata": {
        "id": "bNtJbMHM5WAt"
      }
    },
    {
      "cell_type": "code",
      "source": [],
      "metadata": {
        "id": "uBPhVmNHT_vE"
      },
      "execution_count": null,
      "outputs": []
    },
    {
      "cell_type": "code",
      "execution_count": null,
      "metadata": {
        "id": "l1CbyLPzTtH2",
        "outputId": "f4f7b78e-1736-49c5-e080-7fbfcc57101c"
      },
      "outputs": [
        {
          "data": {
            "text/plain": [
              "JURISDICTION_CODE\n",
              "0.0    13659\n",
              "1.0       46\n",
              "2.0     2545\n",
              "Name: JURISDICTION_CODE, dtype: int64"
            ]
          },
          "execution_count": 15,
          "metadata": {},
          "output_type": "execute_result"
        }
      ],
      "source": [
        "#jurisdiction_code\n",
        "shooting_jurisdiction_code=nypd.groupby(\"JURISDICTION_CODE\")\n",
        "shooting_jurisdiction_code1=shooting_jurisdiction_code[\"JURISDICTION_CODE\"].count()\n",
        "shooting_jurisdiction_code1"
      ]
    },
    {
      "cell_type": "code",
      "execution_count": null,
      "metadata": {
        "id": "fy3p53GATtH3",
        "outputId": "516496c8-3180-491b-ad33-faa43aab3e3d"
      },
      "outputs": [
        {
          "data": {
            "image/png": "[encoded data removed]",
            "text/plain": [
              "<Figure size 432x288 with 1 Axes>"
            ]
          },
          "metadata": {
            "needs_background": "light"
          },
          "output_type": "display_data"
        }
      ],
      "source": [
        "shooting_jurisdiction_code_plot=shooting_jurisdiction_code1.sort_values().plot(kind=\"barh\")"
      ]
    },
    {
      "cell_type": "code",
      "execution_count": null,
      "metadata": {
        "id": "ybF6wiwXTtH3"
      },
      "outputs": [],
      "source": [
        "#Manhattan Shooting Incidents Jurisdiction Code Distribution"
      ]
    },
    {
      "cell_type": "code",
      "execution_count": null,
      "metadata": {
        "id": "i0rM46DuTtH3",
        "outputId": "e05e8e8c-5dd2-4d9e-e82b-becf5d98d10e"
      },
      "outputs": [
        {
          "data": {
            "text/html": [
              "<div>\n",
              "<style scoped>\n",
              "    .dataframe tbody tr th:only-of-type {\n",
              "        vertical-align: middle;\n",
              "    }\n",
              "\n",
              "    .dataframe tbody tr th {\n",
              "        vertical-align: top;\n",
              "    }\n",
              "\n",
              "    .dataframe thead th {\n",
              "        text-align: right;\n",
              "    }\n",
              "</style>\n",
              "<table border=\"1\" class=\"dataframe\">\n",
              "  <thead>\n",
              "    <tr style=\"text-align: right;\">\n",
              "      <th></th>\n",
              "      <th>OCCUR_DATE</th>\n",
              "      <th>OCCUR_TIME</th>\n",
              "      <th>BORO</th>\n",
              "      <th>PRECINCT</th>\n",
              "      <th>JURISDICTION_CODE</th>\n",
              "      <th>STATISTICAL_MURDER_FLAG</th>\n",
              "      <th>PERP_AGE_GROUP</th>\n",
              "      <th>PERP_SEX</th>\n",
              "      <th>PERP_RACE</th>\n",
              "      <th>VIC_AGE_GROUP</th>\n",
              "      <th>VIC_SEX</th>\n",
              "      <th>VIC_RACE</th>\n",
              "      <th>X_COORD_CD</th>\n",
              "      <th>Y_COORD_CD</th>\n",
              "      <th>Latitude</th>\n",
              "      <th>Longitude</th>\n",
              "      <th>Lon_Lat</th>\n",
              "    </tr>\n",
              "  </thead>\n",
              "  <tbody>\n",
              "    <tr>\n",
              "      <th>10</th>\n",
              "      <td>07/21/2021</td>\n",
              "      <td>00:40:00</td>\n",
              "      <td>MANHATTAN</td>\n",
              "      <td>32</td>\n",
              "      <td>0.0</td>\n",
              "      <td>False</td>\n",
              "      <td>25-44</td>\n",
              "      <td>M</td>\n",
              "      <td>BLACK</td>\n",
              "      <td>25-44</td>\n",
              "      <td>M</td>\n",
              "      <td>BLACK</td>\n",
              "      <td>998094.000</td>\n",
              "      <td>235038.000000</td>\n",
              "      <td>40.811798</td>\n",
              "      <td>-73.949990</td>\n",
              "      <td>POINT (-73.94998985099994 40.811798195000044)</td>\n",
              "    </tr>\n",
              "    <tr>\n",
              "      <th>19</th>\n",
              "      <td>09/04/2021</td>\n",
              "      <td>20:18:00</td>\n",
              "      <td>MANHATTAN</td>\n",
              "      <td>32</td>\n",
              "      <td>0.0</td>\n",
              "      <td>False</td>\n",
              "      <td>18-24</td>\n",
              "      <td>M</td>\n",
              "      <td>WHITE HISPANIC</td>\n",
              "      <td>18-24</td>\n",
              "      <td>M</td>\n",
              "      <td>ASIAN / PACIFIC ISLANDER</td>\n",
              "      <td>998593.000</td>\n",
              "      <td>235938.000000</td>\n",
              "      <td>40.814268</td>\n",
              "      <td>-73.948185</td>\n",
              "      <td>POINT (-73.94818528599995 40.814267648000055)</td>\n",
              "    </tr>\n",
              "    <tr>\n",
              "      <th>24</th>\n",
              "      <td>03/10/2021</td>\n",
              "      <td>07:30:00</td>\n",
              "      <td>MANHATTAN</td>\n",
              "      <td>28</td>\n",
              "      <td>0.0</td>\n",
              "      <td>False</td>\n",
              "      <td>25-44</td>\n",
              "      <td>M</td>\n",
              "      <td>BLACK</td>\n",
              "      <td>18-24</td>\n",
              "      <td>M</td>\n",
              "      <td>BLACK</td>\n",
              "      <td>998054.000</td>\n",
              "      <td>232172.000000</td>\n",
              "      <td>40.803932</td>\n",
              "      <td>-73.950140</td>\n",
              "      <td>POINT (-73.95014024399995 40.80393187900006)</td>\n",
              "    </tr>\n",
              "    <tr>\n",
              "      <th>32</th>\n",
              "      <td>10/06/2021</td>\n",
              "      <td>20:21:00</td>\n",
              "      <td>MANHATTAN</td>\n",
              "      <td>28</td>\n",
              "      <td>0.0</td>\n",
              "      <td>False</td>\n",
              "      <td>&lt;18</td>\n",
              "      <td>M</td>\n",
              "      <td>WHITE HISPANIC</td>\n",
              "      <td>&lt;18</td>\n",
              "      <td>M</td>\n",
              "      <td>BLACK</td>\n",
              "      <td>996674.000</td>\n",
              "      <td>232475.000000</td>\n",
              "      <td>40.804766</td>\n",
              "      <td>-73.955124</td>\n",
              "      <td>POINT (-73.95512435799998 40.80476557900005)</td>\n",
              "    </tr>\n",
              "    <tr>\n",
              "      <th>33</th>\n",
              "      <td>11/16/2021</td>\n",
              "      <td>22:39:00</td>\n",
              "      <td>MANHATTAN</td>\n",
              "      <td>14</td>\n",
              "      <td>0.0</td>\n",
              "      <td>False</td>\n",
              "      <td>18-24</td>\n",
              "      <td>M</td>\n",
              "      <td>BLACK</td>\n",
              "      <td>18-24</td>\n",
              "      <td>M</td>\n",
              "      <td>BLACK</td>\n",
              "      <td>988590.000</td>\n",
              "      <td>213119.000000</td>\n",
              "      <td>40.751646</td>\n",
              "      <td>-73.984337</td>\n",
              "      <td>POINT (-73.98433730999993 40.751646125000036)</td>\n",
              "    </tr>\n",
              "    <tr>\n",
              "      <th>...</th>\n",
              "      <td>...</td>\n",
              "      <td>...</td>\n",
              "      <td>...</td>\n",
              "      <td>...</td>\n",
              "      <td>...</td>\n",
              "      <td>...</td>\n",
              "      <td>...</td>\n",
              "      <td>...</td>\n",
              "      <td>...</td>\n",
              "      <td>...</td>\n",
              "      <td>...</td>\n",
              "      <td>...</td>\n",
              "      <td>...</td>\n",
              "      <td>...</td>\n",
              "      <td>...</td>\n",
              "      <td>...</td>\n",
              "      <td>...</td>\n",
              "    </tr>\n",
              "    <tr>\n",
              "      <th>25536</th>\n",
              "      <td>02/21/2010</td>\n",
              "      <td>04:53:00</td>\n",
              "      <td>MANHATTAN</td>\n",
              "      <td>7</td>\n",
              "      <td>2.0</td>\n",
              "      <td>True</td>\n",
              "      <td>18-24</td>\n",
              "      <td>M</td>\n",
              "      <td>WHITE HISPANIC</td>\n",
              "      <td>18-24</td>\n",
              "      <td>M</td>\n",
              "      <td>BLACK</td>\n",
              "      <td>987063.125</td>\n",
              "      <td>198657.281250</td>\n",
              "      <td>40.711953</td>\n",
              "      <td>-73.989854</td>\n",
              "      <td>POINT (-73.98985422499999 40.71195286500006)</td>\n",
              "    </tr>\n",
              "    <tr>\n",
              "      <th>25537</th>\n",
              "      <td>07/17/2009</td>\n",
              "      <td>17:57:00</td>\n",
              "      <td>MANHATTAN</td>\n",
              "      <td>23</td>\n",
              "      <td>0.0</td>\n",
              "      <td>False</td>\n",
              "      <td>25-44</td>\n",
              "      <td>M</td>\n",
              "      <td>BLACK HISPANIC</td>\n",
              "      <td>25-44</td>\n",
              "      <td>M</td>\n",
              "      <td>BLACK HISPANIC</td>\n",
              "      <td>998368.000</td>\n",
              "      <td>228659.000000</td>\n",
              "      <td>40.794289</td>\n",
              "      <td>-73.949013</td>\n",
              "      <td>POINT (-73.94901343599997 40.79428915600005)</td>\n",
              "    </tr>\n",
              "    <tr>\n",
              "      <th>25542</th>\n",
              "      <td>09/04/2007</td>\n",
              "      <td>01:22:00</td>\n",
              "      <td>MANHATTAN</td>\n",
              "      <td>24</td>\n",
              "      <td>0.0</td>\n",
              "      <td>False</td>\n",
              "      <td>UNKNOWN</td>\n",
              "      <td>M</td>\n",
              "      <td>BLACK</td>\n",
              "      <td>18-24</td>\n",
              "      <td>M</td>\n",
              "      <td>BLACK</td>\n",
              "      <td>991368.500</td>\n",
              "      <td>226613.156250</td>\n",
              "      <td>40.788682</td>\n",
              "      <td>-73.974295</td>\n",
              "      <td>POINT (-73.97429472199997 40.78868227500004)</td>\n",
              "    </tr>\n",
              "    <tr>\n",
              "      <th>25552</th>\n",
              "      <td>03/11/2014</td>\n",
              "      <td>23:07:00</td>\n",
              "      <td>MANHATTAN</td>\n",
              "      <td>30</td>\n",
              "      <td>0.0</td>\n",
              "      <td>False</td>\n",
              "      <td>25-44</td>\n",
              "      <td>M</td>\n",
              "      <td>BLACK</td>\n",
              "      <td>25-44</td>\n",
              "      <td>M</td>\n",
              "      <td>BLACK</td>\n",
              "      <td>1000116.500</td>\n",
              "      <td>240541.296875</td>\n",
              "      <td>40.826900</td>\n",
              "      <td>-73.942671</td>\n",
              "      <td>POINT (-73.94267053899995 40.82689979400004)</td>\n",
              "    </tr>\n",
              "    <tr>\n",
              "      <th>25571</th>\n",
              "      <td>01/09/2006</td>\n",
              "      <td>18:26:00</td>\n",
              "      <td>MANHATTAN</td>\n",
              "      <td>23</td>\n",
              "      <td>2.0</td>\n",
              "      <td>False</td>\n",
              "      <td>UNKNOWN</td>\n",
              "      <td>M</td>\n",
              "      <td>UNKNOWN</td>\n",
              "      <td>18-24</td>\n",
              "      <td>M</td>\n",
              "      <td>BLACK</td>\n",
              "      <td>1001212.750</td>\n",
              "      <td>229173.000000</td>\n",
              "      <td>40.795695</td>\n",
              "      <td>-73.938738</td>\n",
              "      <td>POINT (-73.93873815299997 40.79569494400005)</td>\n",
              "    </tr>\n",
              "  </tbody>\n",
              "</table>\n",
              "<p>2234 rows × 17 columns</p>\n",
              "</div>"
            ],
            "text/plain": [
              "       OCCUR_DATE OCCUR_TIME       BORO  PRECINCT  JURISDICTION_CODE  \\\n",
              "10     07/21/2021   00:40:00  MANHATTAN        32                0.0   \n",
              "19     09/04/2021   20:18:00  MANHATTAN        32                0.0   \n",
              "24     03/10/2021   07:30:00  MANHATTAN        28                0.0   \n",
              "32     10/06/2021   20:21:00  MANHATTAN        28                0.0   \n",
              "33     11/16/2021   22:39:00  MANHATTAN        14                0.0   \n",
              "...           ...        ...        ...       ...                ...   \n",
              "25536  02/21/2010   04:53:00  MANHATTAN         7                2.0   \n",
              "25537  07/17/2009   17:57:00  MANHATTAN        23                0.0   \n",
              "25542  09/04/2007   01:22:00  MANHATTAN        24                0.0   \n",
              "25552  03/11/2014   23:07:00  MANHATTAN        30                0.0   \n",
              "25571  01/09/2006   18:26:00  MANHATTAN        23                2.0   \n",
              "\n",
              "       STATISTICAL_MURDER_FLAG PERP_AGE_GROUP PERP_SEX       PERP_RACE  \\\n",
              "10                       False          25-44        M           BLACK   \n",
              "19                       False          18-24        M  WHITE HISPANIC   \n",
              "24                       False          25-44        M           BLACK   \n",
              "32                       False            <18        M  WHITE HISPANIC   \n",
              "33                       False          18-24        M           BLACK   \n",
              "...                        ...            ...      ...             ...   \n",
              "25536                     True          18-24        M  WHITE HISPANIC   \n",
              "25537                    False          25-44        M  BLACK HISPANIC   \n",
              "25542                    False        UNKNOWN        M           BLACK   \n",
              "25552                    False          25-44        M           BLACK   \n",
              "25571                    False        UNKNOWN        M         UNKNOWN   \n",
              "\n",
              "      VIC_AGE_GROUP VIC_SEX                  VIC_RACE   X_COORD_CD  \\\n",
              "10            25-44       M                     BLACK   998094.000   \n",
              "19            18-24       M  ASIAN / PACIFIC ISLANDER   998593.000   \n",
              "24            18-24       M                     BLACK   998054.000   \n",
              "32              <18       M                     BLACK   996674.000   \n",
              "33            18-24       M                     BLACK   988590.000   \n",
              "...             ...     ...                       ...          ...   \n",
              "25536         18-24       M                     BLACK   987063.125   \n",
              "25537         25-44       M            BLACK HISPANIC   998368.000   \n",
              "25542         18-24       M                     BLACK   991368.500   \n",
              "25552         25-44       M                     BLACK  1000116.500   \n",
              "25571         18-24       M                     BLACK  1001212.750   \n",
              "\n",
              "          Y_COORD_CD   Latitude  Longitude  \\\n",
              "10     235038.000000  40.811798 -73.949990   \n",
              "19     235938.000000  40.814268 -73.948185   \n",
              "24     232172.000000  40.803932 -73.950140   \n",
              "32     232475.000000  40.804766 -73.955124   \n",
              "33     213119.000000  40.751646 -73.984337   \n",
              "...              ...        ...        ...   \n",
              "25536  198657.281250  40.711953 -73.989854   \n",
              "25537  228659.000000  40.794289 -73.949013   \n",
              "25542  226613.156250  40.788682 -73.974295   \n",
              "25552  240541.296875  40.826900 -73.942671   \n",
              "25571  229173.000000  40.795695 -73.938738   \n",
              "\n",
              "                                             Lon_Lat  \n",
              "10     POINT (-73.94998985099994 40.811798195000044)  \n",
              "19     POINT (-73.94818528599995 40.814267648000055)  \n",
              "24      POINT (-73.95014024399995 40.80393187900006)  \n",
              "32      POINT (-73.95512435799998 40.80476557900005)  \n",
              "33     POINT (-73.98433730999993 40.751646125000036)  \n",
              "...                                              ...  \n",
              "25536   POINT (-73.98985422499999 40.71195286500006)  \n",
              "25537   POINT (-73.94901343599997 40.79428915600005)  \n",
              "25542   POINT (-73.97429472199997 40.78868227500004)  \n",
              "25552   POINT (-73.94267053899995 40.82689979400004)  \n",
              "25571   POINT (-73.93873815299997 40.79569494400005)  \n",
              "\n",
              "[2234 rows x 17 columns]"
            ]
          },
          "execution_count": 19,
          "metadata": {},
          "output_type": "execute_result"
        }
      ],
      "source": [
        "nypd_manhattan=nypd.loc[nypd[\"BORO\"]== \"MANHATTAN\"]\n",
        "nypd_manhattan"
      ]
    },
    {
      "cell_type": "code",
      "execution_count": null,
      "metadata": {
        "id": "0WyFTRNATtH4",
        "outputId": "2a5071c3-0cc9-471f-ebf5-64cb92c0a001"
      },
      "outputs": [
        {
          "data": {
            "text/plain": [
              "JURISDICTION_CODE\n",
              "0.0    1714\n",
              "1.0      15\n",
              "2.0     505\n",
              "Name: JURISDICTION_CODE, dtype: int64"
            ]
          },
          "execution_count": 21,
          "metadata": {},
          "output_type": "execute_result"
        }
      ],
      "source": [
        "shooting_jurisdiction_code=nypd_manhattan.groupby(\"JURISDICTION_CODE\")\n",
        "shooting_jurisdiction_code1=shooting_jurisdiction_code[\"JURISDICTION_CODE\"].count()\n",
        "shooting_jurisdiction_code1"
      ]
    },
    {
      "cell_type": "code",
      "execution_count": null,
      "metadata": {
        "id": "O1cdAY3tTtH5",
        "outputId": "c1425c73-10d9-4701-c5e1-d804fffc7c4c"
      },
      "outputs": [
        {
          "data": {
            "image/png": "[encoded data removed]",
            "text/plain": [
              "<Figure size 432x288 with 1 Axes>"
            ]
          },
          "metadata": {
            "needs_background": "light"
          },
          "output_type": "display_data"
        }
      ],
      "source": [
        "shooting_jurisdiction_code_plot=shooting_jurisdiction_code1.sort_values().plot(kind=\"barh\")"
      ]
    },
    {
      "cell_type": "code",
      "execution_count": null,
      "metadata": {
        "id": "0QhWZPR8TtH5"
      },
      "outputs": [],
      "source": [
        "#Bronx Shooting Incidents Jurisdiction Code Distribution"
      ]
    },
    {
      "cell_type": "code",
      "execution_count": null,
      "metadata": {
        "id": "onmOhlMLTtH6",
        "outputId": "8c5ac6f2-0092-41fc-c17c-f4b6fe80a862"
      },
      "outputs": [
        {
          "data": {
            "text/html": [
              "<div>\n",
              "<style scoped>\n",
              "    .dataframe tbody tr th:only-of-type {\n",
              "        vertical-align: middle;\n",
              "    }\n",
              "\n",
              "    .dataframe tbody tr th {\n",
              "        vertical-align: top;\n",
              "    }\n",
              "\n",
              "    .dataframe thead th {\n",
              "        text-align: right;\n",
              "    }\n",
              "</style>\n",
              "<table border=\"1\" class=\"dataframe\">\n",
              "  <thead>\n",
              "    <tr style=\"text-align: right;\">\n",
              "      <th></th>\n",
              "      <th>OCCUR_DATE</th>\n",
              "      <th>OCCUR_TIME</th>\n",
              "      <th>BORO</th>\n",
              "      <th>PRECINCT</th>\n",
              "      <th>JURISDICTION_CODE</th>\n",
              "      <th>STATISTICAL_MURDER_FLAG</th>\n",
              "      <th>PERP_AGE_GROUP</th>\n",
              "      <th>PERP_SEX</th>\n",
              "      <th>PERP_RACE</th>\n",
              "      <th>VIC_AGE_GROUP</th>\n",
              "      <th>VIC_SEX</th>\n",
              "      <th>VIC_RACE</th>\n",
              "      <th>X_COORD_CD</th>\n",
              "      <th>Y_COORD_CD</th>\n",
              "      <th>Latitude</th>\n",
              "      <th>Longitude</th>\n",
              "      <th>Lon_Lat</th>\n",
              "    </tr>\n",
              "  </thead>\n",
              "  <tbody>\n",
              "    <tr>\n",
              "      <th>12</th>\n",
              "      <td>05/09/2021</td>\n",
              "      <td>02:50:00</td>\n",
              "      <td>BRONX</td>\n",
              "      <td>41</td>\n",
              "      <td>2.0</td>\n",
              "      <td>True</td>\n",
              "      <td>25-44</td>\n",
              "      <td>M</td>\n",
              "      <td>BLACK</td>\n",
              "      <td>25-44</td>\n",
              "      <td>M</td>\n",
              "      <td>BLACK HISPANIC</td>\n",
              "      <td>1.014642e+06</td>\n",
              "      <td>240068.000000</td>\n",
              "      <td>40.825563</td>\n",
              "      <td>-73.890187</td>\n",
              "      <td>POINT (-73.89018728699995 40.82556269400004)</td>\n",
              "    </tr>\n",
              "    <tr>\n",
              "      <th>17</th>\n",
              "      <td>06/16/2021</td>\n",
              "      <td>23:22:00</td>\n",
              "      <td>BRONX</td>\n",
              "      <td>52</td>\n",
              "      <td>0.0</td>\n",
              "      <td>True</td>\n",
              "      <td>25-44</td>\n",
              "      <td>M</td>\n",
              "      <td>BLACK</td>\n",
              "      <td>25-44</td>\n",
              "      <td>F</td>\n",
              "      <td>BLACK</td>\n",
              "      <td>1.014313e+06</td>\n",
              "      <td>254123.000000</td>\n",
              "      <td>40.864141</td>\n",
              "      <td>-73.891313</td>\n",
              "      <td>POINT (-73.89131303799998 40.864140648000046)</td>\n",
              "    </tr>\n",
              "    <tr>\n",
              "      <th>21</th>\n",
              "      <td>06/16/2021</td>\n",
              "      <td>23:22:00</td>\n",
              "      <td>BRONX</td>\n",
              "      <td>52</td>\n",
              "      <td>0.0</td>\n",
              "      <td>False</td>\n",
              "      <td>18-24</td>\n",
              "      <td>M</td>\n",
              "      <td>WHITE HISPANIC</td>\n",
              "      <td>25-44</td>\n",
              "      <td>F</td>\n",
              "      <td>BLACK</td>\n",
              "      <td>1.014313e+06</td>\n",
              "      <td>254123.000000</td>\n",
              "      <td>40.864141</td>\n",
              "      <td>-73.891313</td>\n",
              "      <td>POINT (-73.89131303799998 40.864140648000046)</td>\n",
              "    </tr>\n",
              "    <tr>\n",
              "      <th>22</th>\n",
              "      <td>09/29/2021</td>\n",
              "      <td>12:50:00</td>\n",
              "      <td>BRONX</td>\n",
              "      <td>48</td>\n",
              "      <td>0.0</td>\n",
              "      <td>False</td>\n",
              "      <td>18-24</td>\n",
              "      <td>M</td>\n",
              "      <td>BLACK</td>\n",
              "      <td>&lt;18</td>\n",
              "      <td>M</td>\n",
              "      <td>BLACK HISPANIC</td>\n",
              "      <td>1.016838e+06</td>\n",
              "      <td>250252.000000</td>\n",
              "      <td>40.853507</td>\n",
              "      <td>-73.882203</td>\n",
              "      <td>POINT (-73.88220309599996 40.85350696200004)</td>\n",
              "    </tr>\n",
              "    <tr>\n",
              "      <th>31</th>\n",
              "      <td>03/21/2021</td>\n",
              "      <td>20:01:00</td>\n",
              "      <td>BRONX</td>\n",
              "      <td>42</td>\n",
              "      <td>0.0</td>\n",
              "      <td>False</td>\n",
              "      <td>&lt;18</td>\n",
              "      <td>M</td>\n",
              "      <td>BLACK</td>\n",
              "      <td>25-44</td>\n",
              "      <td>M</td>\n",
              "      <td>BLACK</td>\n",
              "      <td>1.012293e+06</td>\n",
              "      <td>245330.000000</td>\n",
              "      <td>40.840013</td>\n",
              "      <td>-73.898653</td>\n",
              "      <td>POINT (-73.89865282699996 40.84001313300007)</td>\n",
              "    </tr>\n",
              "    <tr>\n",
              "      <th>...</th>\n",
              "      <td>...</td>\n",
              "      <td>...</td>\n",
              "      <td>...</td>\n",
              "      <td>...</td>\n",
              "      <td>...</td>\n",
              "      <td>...</td>\n",
              "      <td>...</td>\n",
              "      <td>...</td>\n",
              "      <td>...</td>\n",
              "      <td>...</td>\n",
              "      <td>...</td>\n",
              "      <td>...</td>\n",
              "      <td>...</td>\n",
              "      <td>...</td>\n",
              "      <td>...</td>\n",
              "      <td>...</td>\n",
              "      <td>...</td>\n",
              "    </tr>\n",
              "    <tr>\n",
              "      <th>25572</th>\n",
              "      <td>07/31/2007</td>\n",
              "      <td>22:00:00</td>\n",
              "      <td>BRONX</td>\n",
              "      <td>44</td>\n",
              "      <td>0.0</td>\n",
              "      <td>False</td>\n",
              "      <td>UNKNOWN</td>\n",
              "      <td>M</td>\n",
              "      <td>BLACK</td>\n",
              "      <td>25-44</td>\n",
              "      <td>M</td>\n",
              "      <td>BLACK</td>\n",
              "      <td>1.006434e+06</td>\n",
              "      <td>244344.000000</td>\n",
              "      <td>40.837324</td>\n",
              "      <td>-73.919831</td>\n",
              "      <td>POINT (-73.91983075699994 40.83732351100008)</td>\n",
              "    </tr>\n",
              "    <tr>\n",
              "      <th>25574</th>\n",
              "      <td>11/15/2012</td>\n",
              "      <td>18:23:00</td>\n",
              "      <td>BRONX</td>\n",
              "      <td>47</td>\n",
              "      <td>0.0</td>\n",
              "      <td>False</td>\n",
              "      <td>18-24</td>\n",
              "      <td>M</td>\n",
              "      <td>BLACK</td>\n",
              "      <td>25-44</td>\n",
              "      <td>M</td>\n",
              "      <td>BLACK</td>\n",
              "      <td>1.027440e+06</td>\n",
              "      <td>257814.343750</td>\n",
              "      <td>40.874218</td>\n",
              "      <td>-73.843830</td>\n",
              "      <td>POINT (-73.84382988799996 40.87421778200007)</td>\n",
              "    </tr>\n",
              "    <tr>\n",
              "      <th>25576</th>\n",
              "      <td>08/23/2012</td>\n",
              "      <td>13:22:00</td>\n",
              "      <td>BRONX</td>\n",
              "      <td>44</td>\n",
              "      <td>0.0</td>\n",
              "      <td>True</td>\n",
              "      <td>45-64</td>\n",
              "      <td>M</td>\n",
              "      <td>BLACK</td>\n",
              "      <td>45-64</td>\n",
              "      <td>M</td>\n",
              "      <td>BLACK</td>\n",
              "      <td>1.004886e+06</td>\n",
              "      <td>240825.343750</td>\n",
              "      <td>40.827670</td>\n",
              "      <td>-73.925437</td>\n",
              "      <td>POINT (-73.92543701999995 40.827669567000044)</td>\n",
              "    </tr>\n",
              "    <tr>\n",
              "      <th>25582</th>\n",
              "      <td>07/28/2019</td>\n",
              "      <td>04:00:00</td>\n",
              "      <td>BRONX</td>\n",
              "      <td>50</td>\n",
              "      <td>0.0</td>\n",
              "      <td>False</td>\n",
              "      <td>25-44</td>\n",
              "      <td>M</td>\n",
              "      <td>WHITE HISPANIC</td>\n",
              "      <td>18-24</td>\n",
              "      <td>M</td>\n",
              "      <td>WHITE HISPANIC</td>\n",
              "      <td>1.010984e+06</td>\n",
              "      <td>261033.906250</td>\n",
              "      <td>40.883120</td>\n",
              "      <td>-73.903322</td>\n",
              "      <td>POINT (-73.90332187399997 40.88311966300006)</td>\n",
              "    </tr>\n",
              "    <tr>\n",
              "      <th>25594</th>\n",
              "      <td>03/17/2018</td>\n",
              "      <td>00:46:00</td>\n",
              "      <td>BRONX</td>\n",
              "      <td>43</td>\n",
              "      <td>0.0</td>\n",
              "      <td>False</td>\n",
              "      <td>25-44</td>\n",
              "      <td>M</td>\n",
              "      <td>UNKNOWN</td>\n",
              "      <td>25-44</td>\n",
              "      <td>M</td>\n",
              "      <td>WHITE HISPANIC</td>\n",
              "      <td>1.018728e+06</td>\n",
              "      <td>242744.234375</td>\n",
              "      <td>40.832893</td>\n",
              "      <td>-73.875408</td>\n",
              "      <td>POINT (-73.87540796899998 40.83289318000004)</td>\n",
              "    </tr>\n",
              "  </tbody>\n",
              "</table>\n",
              "<p>4890 rows × 17 columns</p>\n",
              "</div>"
            ],
            "text/plain": [
              "       OCCUR_DATE OCCUR_TIME   BORO  PRECINCT  JURISDICTION_CODE  \\\n",
              "12     05/09/2021   02:50:00  BRONX        41                2.0   \n",
              "17     06/16/2021   23:22:00  BRONX        52                0.0   \n",
              "21     06/16/2021   23:22:00  BRONX        52                0.0   \n",
              "22     09/29/2021   12:50:00  BRONX        48                0.0   \n",
              "31     03/21/2021   20:01:00  BRONX        42                0.0   \n",
              "...           ...        ...    ...       ...                ...   \n",
              "25572  07/31/2007   22:00:00  BRONX        44                0.0   \n",
              "25574  11/15/2012   18:23:00  BRONX        47                0.0   \n",
              "25576  08/23/2012   13:22:00  BRONX        44                0.0   \n",
              "25582  07/28/2019   04:00:00  BRONX        50                0.0   \n",
              "25594  03/17/2018   00:46:00  BRONX        43                0.0   \n",
              "\n",
              "       STATISTICAL_MURDER_FLAG PERP_AGE_GROUP PERP_SEX       PERP_RACE  \\\n",
              "12                        True          25-44        M           BLACK   \n",
              "17                        True          25-44        M           BLACK   \n",
              "21                       False          18-24        M  WHITE HISPANIC   \n",
              "22                       False          18-24        M           BLACK   \n",
              "31                       False            <18        M           BLACK   \n",
              "...                        ...            ...      ...             ...   \n",
              "25572                    False        UNKNOWN        M           BLACK   \n",
              "25574                    False          18-24        M           BLACK   \n",
              "25576                     True          45-64        M           BLACK   \n",
              "25582                    False          25-44        M  WHITE HISPANIC   \n",
              "25594                    False          25-44        M         UNKNOWN   \n",
              "\n",
              "      VIC_AGE_GROUP VIC_SEX        VIC_RACE    X_COORD_CD     Y_COORD_CD  \\\n",
              "12            25-44       M  BLACK HISPANIC  1.014642e+06  240068.000000   \n",
              "17            25-44       F           BLACK  1.014313e+06  254123.000000   \n",
              "21            25-44       F           BLACK  1.014313e+06  254123.000000   \n",
              "22              <18       M  BLACK HISPANIC  1.016838e+06  250252.000000   \n",
              "31            25-44       M           BLACK  1.012293e+06  245330.000000   \n",
              "...             ...     ...             ...           ...            ...   \n",
              "25572         25-44       M           BLACK  1.006434e+06  244344.000000   \n",
              "25574         25-44       M           BLACK  1.027440e+06  257814.343750   \n",
              "25576         45-64       M           BLACK  1.004886e+06  240825.343750   \n",
              "25582         18-24       M  WHITE HISPANIC  1.010984e+06  261033.906250   \n",
              "25594         25-44       M  WHITE HISPANIC  1.018728e+06  242744.234375   \n",
              "\n",
              "        Latitude  Longitude                                        Lon_Lat  \n",
              "12     40.825563 -73.890187   POINT (-73.89018728699995 40.82556269400004)  \n",
              "17     40.864141 -73.891313  POINT (-73.89131303799998 40.864140648000046)  \n",
              "21     40.864141 -73.891313  POINT (-73.89131303799998 40.864140648000046)  \n",
              "22     40.853507 -73.882203   POINT (-73.88220309599996 40.85350696200004)  \n",
              "31     40.840013 -73.898653   POINT (-73.89865282699996 40.84001313300007)  \n",
              "...          ...        ...                                            ...  \n",
              "25572  40.837324 -73.919831   POINT (-73.91983075699994 40.83732351100008)  \n",
              "25574  40.874218 -73.843830   POINT (-73.84382988799996 40.87421778200007)  \n",
              "25576  40.827670 -73.925437  POINT (-73.92543701999995 40.827669567000044)  \n",
              "25582  40.883120 -73.903322   POINT (-73.90332187399997 40.88311966300006)  \n",
              "25594  40.832893 -73.875408   POINT (-73.87540796899998 40.83289318000004)  \n",
              "\n",
              "[4890 rows x 17 columns]"
            ]
          },
          "execution_count": 23,
          "metadata": {},
          "output_type": "execute_result"
        }
      ],
      "source": [
        "nypd_bronx=nypd.loc[nypd[\"BORO\"]== \"BRONX\"]\n",
        "nypd_bronx"
      ]
    },
    {
      "cell_type": "code",
      "execution_count": null,
      "metadata": {
        "id": "OP_FFCJ5TtH6",
        "outputId": "b9a3724f-16e8-47cf-ddb5-9fa48d61568a"
      },
      "outputs": [
        {
          "data": {
            "text/plain": [
              "JURISDICTION_CODE\n",
              "0.0    4252\n",
              "1.0       9\n",
              "2.0     629\n",
              "Name: JURISDICTION_CODE, dtype: int64"
            ]
          },
          "execution_count": 24,
          "metadata": {},
          "output_type": "execute_result"
        }
      ],
      "source": [
        "shooting_jurisdiction_code=nypd_bronx.groupby(\"JURISDICTION_CODE\")\n",
        "shooting_jurisdiction_code1=shooting_jurisdiction_code[\"JURISDICTION_CODE\"].count()\n",
        "shooting_jurisdiction_code1"
      ]
    },
    {
      "cell_type": "code",
      "execution_count": null,
      "metadata": {
        "id": "ANYSisThTtH6",
        "outputId": "0895f063-32be-4a97-af59-6752083dce93"
      },
      "outputs": [
        {
          "data": {
            "image/png": "[encoded data removed]",
            "text/plain": [
              "<Figure size 432x288 with 1 Axes>"
            ]
          },
          "metadata": {
            "needs_background": "light"
          },
          "output_type": "display_data"
        }
      ],
      "source": [
        "shooting_jurisdiction_code_plot=shooting_jurisdiction_code1.sort_values().plot(kind=\"barh\")"
      ]
    },
    {
      "cell_type": "code",
      "execution_count": null,
      "metadata": {
        "id": "DxrNkbYtTtH7"
      },
      "outputs": [],
      "source": [
        "#Queens Shooting Incidents Jurisdiction Code Distribution"
      ]
    },
    {
      "cell_type": "code",
      "execution_count": null,
      "metadata": {
        "id": "sPFZpkuxTtH7",
        "outputId": "9a240b07-979d-4872-f635-b84b9ec66211"
      },
      "outputs": [
        {
          "data": {
            "text/html": [
              "<div>\n",
              "<style scoped>\n",
              "    .dataframe tbody tr th:only-of-type {\n",
              "        vertical-align: middle;\n",
              "    }\n",
              "\n",
              "    .dataframe tbody tr th {\n",
              "        vertical-align: top;\n",
              "    }\n",
              "\n",
              "    .dataframe thead th {\n",
              "        text-align: right;\n",
              "    }\n",
              "</style>\n",
              "<table border=\"1\" class=\"dataframe\">\n",
              "  <thead>\n",
              "    <tr style=\"text-align: right;\">\n",
              "      <th></th>\n",
              "      <th>OCCUR_DATE</th>\n",
              "      <th>OCCUR_TIME</th>\n",
              "      <th>BORO</th>\n",
              "      <th>PRECINCT</th>\n",
              "      <th>JURISDICTION_CODE</th>\n",
              "      <th>STATISTICAL_MURDER_FLAG</th>\n",
              "      <th>PERP_AGE_GROUP</th>\n",
              "      <th>PERP_SEX</th>\n",
              "      <th>PERP_RACE</th>\n",
              "      <th>VIC_AGE_GROUP</th>\n",
              "      <th>VIC_SEX</th>\n",
              "      <th>VIC_RACE</th>\n",
              "      <th>X_COORD_CD</th>\n",
              "      <th>Y_COORD_CD</th>\n",
              "      <th>Latitude</th>\n",
              "      <th>Longitude</th>\n",
              "      <th>Lon_Lat</th>\n",
              "    </tr>\n",
              "  </thead>\n",
              "  <tbody>\n",
              "    <tr>\n",
              "      <th>25</th>\n",
              "      <td>08/13/2021</td>\n",
              "      <td>01:00:00</td>\n",
              "      <td>QUEENS</td>\n",
              "      <td>109</td>\n",
              "      <td>0.0</td>\n",
              "      <td>True</td>\n",
              "      <td>18-24</td>\n",
              "      <td>M</td>\n",
              "      <td>BLACK</td>\n",
              "      <td>18-24</td>\n",
              "      <td>F</td>\n",
              "      <td>BLACK</td>\n",
              "      <td>1.031552e+06</td>\n",
              "      <td>216518.000000</td>\n",
              "      <td>40.760850</td>\n",
              "      <td>-73.829253</td>\n",
              "      <td>POINT (-73.82925306599996 40.760850049000055)</td>\n",
              "    </tr>\n",
              "    <tr>\n",
              "      <th>105</th>\n",
              "      <td>08/05/2021</td>\n",
              "      <td>08:57:00</td>\n",
              "      <td>QUEENS</td>\n",
              "      <td>103</td>\n",
              "      <td>0.0</td>\n",
              "      <td>False</td>\n",
              "      <td>25-44</td>\n",
              "      <td>M</td>\n",
              "      <td>BLACK</td>\n",
              "      <td>25-44</td>\n",
              "      <td>M</td>\n",
              "      <td>WHITE HISPANIC</td>\n",
              "      <td>1.037949e+06</td>\n",
              "      <td>195015.000000</td>\n",
              "      <td>40.701793</td>\n",
              "      <td>-73.806333</td>\n",
              "      <td>POINT (-73.80633317499998 40.70179318200008)</td>\n",
              "    </tr>\n",
              "    <tr>\n",
              "      <th>113</th>\n",
              "      <td>09/06/2021</td>\n",
              "      <td>03:52:00</td>\n",
              "      <td>QUEENS</td>\n",
              "      <td>102</td>\n",
              "      <td>0.0</td>\n",
              "      <td>False</td>\n",
              "      <td>18-24</td>\n",
              "      <td>M</td>\n",
              "      <td>ASIAN / PACIFIC ISLANDER</td>\n",
              "      <td>25-44</td>\n",
              "      <td>M</td>\n",
              "      <td>BLACK</td>\n",
              "      <td>1.034148e+06</td>\n",
              "      <td>192848.000000</td>\n",
              "      <td>40.695868</td>\n",
              "      <td>-73.820058</td>\n",
              "      <td>POINT (-73.82005769499993 40.69586753200008)</td>\n",
              "    </tr>\n",
              "    <tr>\n",
              "      <th>128</th>\n",
              "      <td>09/30/2021</td>\n",
              "      <td>07:30:00</td>\n",
              "      <td>QUEENS</td>\n",
              "      <td>103</td>\n",
              "      <td>0.0</td>\n",
              "      <td>False</td>\n",
              "      <td>25-44</td>\n",
              "      <td>M</td>\n",
              "      <td>BLACK</td>\n",
              "      <td>25-44</td>\n",
              "      <td>M</td>\n",
              "      <td>BLACK</td>\n",
              "      <td>1.040325e+06</td>\n",
              "      <td>191194.000000</td>\n",
              "      <td>40.691291</td>\n",
              "      <td>-73.797796</td>\n",
              "      <td>POINT (-73.79779584499995 40.69129071300006)</td>\n",
              "    </tr>\n",
              "    <tr>\n",
              "      <th>154</th>\n",
              "      <td>06/29/2021</td>\n",
              "      <td>19:14:00</td>\n",
              "      <td>QUEENS</td>\n",
              "      <td>102</td>\n",
              "      <td>0.0</td>\n",
              "      <td>False</td>\n",
              "      <td>18-24</td>\n",
              "      <td>M</td>\n",
              "      <td>WHITE HISPANIC</td>\n",
              "      <td>18-24</td>\n",
              "      <td>M</td>\n",
              "      <td>BLACK HISPANIC</td>\n",
              "      <td>1.021828e+06</td>\n",
              "      <td>190928.000000</td>\n",
              "      <td>40.690658</td>\n",
              "      <td>-73.864497</td>\n",
              "      <td>POINT (-73.86449709799997 40.69065847000007)</td>\n",
              "    </tr>\n",
              "    <tr>\n",
              "      <th>...</th>\n",
              "      <td>...</td>\n",
              "      <td>...</td>\n",
              "      <td>...</td>\n",
              "      <td>...</td>\n",
              "      <td>...</td>\n",
              "      <td>...</td>\n",
              "      <td>...</td>\n",
              "      <td>...</td>\n",
              "      <td>...</td>\n",
              "      <td>...</td>\n",
              "      <td>...</td>\n",
              "      <td>...</td>\n",
              "      <td>...</td>\n",
              "      <td>...</td>\n",
              "      <td>...</td>\n",
              "      <td>...</td>\n",
              "      <td>...</td>\n",
              "    </tr>\n",
              "    <tr>\n",
              "      <th>25494</th>\n",
              "      <td>01/02/2012</td>\n",
              "      <td>05:00:00</td>\n",
              "      <td>QUEENS</td>\n",
              "      <td>113</td>\n",
              "      <td>0.0</td>\n",
              "      <td>False</td>\n",
              "      <td>25-44</td>\n",
              "      <td>M</td>\n",
              "      <td>BLACK</td>\n",
              "      <td>18-24</td>\n",
              "      <td>M</td>\n",
              "      <td>BLACK</td>\n",
              "      <td>1.046624e+06</td>\n",
              "      <td>184397.578125</td>\n",
              "      <td>40.672594</td>\n",
              "      <td>-73.775145</td>\n",
              "      <td>POINT (-73.77514452399998 40.672593988000074)</td>\n",
              "    </tr>\n",
              "    <tr>\n",
              "      <th>25530</th>\n",
              "      <td>04/19/2009</td>\n",
              "      <td>05:30:00</td>\n",
              "      <td>QUEENS</td>\n",
              "      <td>113</td>\n",
              "      <td>0.0</td>\n",
              "      <td>False</td>\n",
              "      <td>UNKNOWN</td>\n",
              "      <td>U</td>\n",
              "      <td>UNKNOWN</td>\n",
              "      <td>25-44</td>\n",
              "      <td>M</td>\n",
              "      <td>BLACK</td>\n",
              "      <td>1.050338e+06</td>\n",
              "      <td>193043.875000</td>\n",
              "      <td>40.696299</td>\n",
              "      <td>-73.761671</td>\n",
              "      <td>POINT (-73.76167068399997 40.69629906900008)</td>\n",
              "    </tr>\n",
              "    <tr>\n",
              "      <th>25558</th>\n",
              "      <td>05/26/2007</td>\n",
              "      <td>16:53:00</td>\n",
              "      <td>QUEENS</td>\n",
              "      <td>113</td>\n",
              "      <td>0.0</td>\n",
              "      <td>False</td>\n",
              "      <td>UNKNOWN</td>\n",
              "      <td>M</td>\n",
              "      <td>BLACK</td>\n",
              "      <td>18-24</td>\n",
              "      <td>M</td>\n",
              "      <td>BLACK</td>\n",
              "      <td>1.049729e+06</td>\n",
              "      <td>189529.968750</td>\n",
              "      <td>40.686659</td>\n",
              "      <td>-73.763903</td>\n",
              "      <td>POINT (-73.76390284099995 40.686658771000054)</td>\n",
              "    </tr>\n",
              "    <tr>\n",
              "      <th>25589</th>\n",
              "      <td>06/25/2009</td>\n",
              "      <td>23:20:00</td>\n",
              "      <td>QUEENS</td>\n",
              "      <td>110</td>\n",
              "      <td>0.0</td>\n",
              "      <td>False</td>\n",
              "      <td>UNKNOWN</td>\n",
              "      <td>U</td>\n",
              "      <td>UNKNOWN</td>\n",
              "      <td>18-24</td>\n",
              "      <td>M</td>\n",
              "      <td>BLACK</td>\n",
              "      <td>1.021804e+06</td>\n",
              "      <td>207825.171875</td>\n",
              "      <td>40.737037</td>\n",
              "      <td>-73.864490</td>\n",
              "      <td>POINT (-73.86449006199996 40.73703722900007)</td>\n",
              "    </tr>\n",
              "    <tr>\n",
              "      <th>25595</th>\n",
              "      <td>10/05/2020</td>\n",
              "      <td>12:00:00</td>\n",
              "      <td>QUEENS</td>\n",
              "      <td>113</td>\n",
              "      <td>0.0</td>\n",
              "      <td>False</td>\n",
              "      <td>25-44</td>\n",
              "      <td>M</td>\n",
              "      <td>BLACK</td>\n",
              "      <td>25-44</td>\n",
              "      <td>M</td>\n",
              "      <td>BLACK</td>\n",
              "      <td>1.049416e+06</td>\n",
              "      <td>183677.000000</td>\n",
              "      <td>40.670596</td>\n",
              "      <td>-73.765087</td>\n",
              "      <td>POINT (-73.76508667399997 40.67059605900005)</td>\n",
              "    </tr>\n",
              "  </tbody>\n",
              "</table>\n",
              "<p>2461 rows × 17 columns</p>\n",
              "</div>"
            ],
            "text/plain": [
              "       OCCUR_DATE OCCUR_TIME    BORO  PRECINCT  JURISDICTION_CODE  \\\n",
              "25     08/13/2021   01:00:00  QUEENS       109                0.0   \n",
              "105    08/05/2021   08:57:00  QUEENS       103                0.0   \n",
              "113    09/06/2021   03:52:00  QUEENS       102                0.0   \n",
              "128    09/30/2021   07:30:00  QUEENS       103                0.0   \n",
              "154    06/29/2021   19:14:00  QUEENS       102                0.0   \n",
              "...           ...        ...     ...       ...                ...   \n",
              "25494  01/02/2012   05:00:00  QUEENS       113                0.0   \n",
              "25530  04/19/2009   05:30:00  QUEENS       113                0.0   \n",
              "25558  05/26/2007   16:53:00  QUEENS       113                0.0   \n",
              "25589  06/25/2009   23:20:00  QUEENS       110                0.0   \n",
              "25595  10/05/2020   12:00:00  QUEENS       113                0.0   \n",
              "\n",
              "       STATISTICAL_MURDER_FLAG PERP_AGE_GROUP PERP_SEX  \\\n",
              "25                        True          18-24        M   \n",
              "105                      False          25-44        M   \n",
              "113                      False          18-24        M   \n",
              "128                      False          25-44        M   \n",
              "154                      False          18-24        M   \n",
              "...                        ...            ...      ...   \n",
              "25494                    False          25-44        M   \n",
              "25530                    False        UNKNOWN        U   \n",
              "25558                    False        UNKNOWN        M   \n",
              "25589                    False        UNKNOWN        U   \n",
              "25595                    False          25-44        M   \n",
              "\n",
              "                      PERP_RACE VIC_AGE_GROUP VIC_SEX        VIC_RACE  \\\n",
              "25                        BLACK         18-24       F           BLACK   \n",
              "105                       BLACK         25-44       M  WHITE HISPANIC   \n",
              "113    ASIAN / PACIFIC ISLANDER         25-44       M           BLACK   \n",
              "128                       BLACK         25-44       M           BLACK   \n",
              "154              WHITE HISPANIC         18-24       M  BLACK HISPANIC   \n",
              "...                         ...           ...     ...             ...   \n",
              "25494                     BLACK         18-24       M           BLACK   \n",
              "25530                   UNKNOWN         25-44       M           BLACK   \n",
              "25558                     BLACK         18-24       M           BLACK   \n",
              "25589                   UNKNOWN         18-24       M           BLACK   \n",
              "25595                     BLACK         25-44       M           BLACK   \n",
              "\n",
              "         X_COORD_CD     Y_COORD_CD   Latitude  Longitude  \\\n",
              "25     1.031552e+06  216518.000000  40.760850 -73.829253   \n",
              "105    1.037949e+06  195015.000000  40.701793 -73.806333   \n",
              "113    1.034148e+06  192848.000000  40.695868 -73.820058   \n",
              "128    1.040325e+06  191194.000000  40.691291 -73.797796   \n",
              "154    1.021828e+06  190928.000000  40.690658 -73.864497   \n",
              "...             ...            ...        ...        ...   \n",
              "25494  1.046624e+06  184397.578125  40.672594 -73.775145   \n",
              "25530  1.050338e+06  193043.875000  40.696299 -73.761671   \n",
              "25558  1.049729e+06  189529.968750  40.686659 -73.763903   \n",
              "25589  1.021804e+06  207825.171875  40.737037 -73.864490   \n",
              "25595  1.049416e+06  183677.000000  40.670596 -73.765087   \n",
              "\n",
              "                                             Lon_Lat  \n",
              "25     POINT (-73.82925306599996 40.760850049000055)  \n",
              "105     POINT (-73.80633317499998 40.70179318200008)  \n",
              "113     POINT (-73.82005769499993 40.69586753200008)  \n",
              "128     POINT (-73.79779584499995 40.69129071300006)  \n",
              "154     POINT (-73.86449709799997 40.69065847000007)  \n",
              "...                                              ...  \n",
              "25494  POINT (-73.77514452399998 40.672593988000074)  \n",
              "25530   POINT (-73.76167068399997 40.69629906900008)  \n",
              "25558  POINT (-73.76390284099995 40.686658771000054)  \n",
              "25589   POINT (-73.86449006199996 40.73703722900007)  \n",
              "25595   POINT (-73.76508667399997 40.67059605900005)  \n",
              "\n",
              "[2461 rows x 17 columns]"
            ]
          },
          "execution_count": 26,
          "metadata": {},
          "output_type": "execute_result"
        }
      ],
      "source": [
        "nypd_queens=nypd.loc[nypd[\"BORO\"]== \"QUEENS\"]\n",
        "nypd_queens"
      ]
    },
    {
      "cell_type": "code",
      "execution_count": null,
      "metadata": {
        "id": "Ydle7h-iTtH8",
        "outputId": "349ad455-2d49-40d7-9756-90e0234a36f9"
      },
      "outputs": [
        {
          "data": {
            "text/plain": [
              "JURISDICTION_CODE\n",
              "0.0    2183\n",
              "1.0       6\n",
              "2.0     272\n",
              "Name: JURISDICTION_CODE, dtype: int64"
            ]
          },
          "execution_count": 27,
          "metadata": {},
          "output_type": "execute_result"
        }
      ],
      "source": [
        "shooting_jurisdiction_code=nypd_queens.groupby(\"JURISDICTION_CODE\")\n",
        "shooting_jurisdiction_code1=shooting_jurisdiction_code[\"JURISDICTION_CODE\"].count()\n",
        "shooting_jurisdiction_code1"
      ]
    },
    {
      "cell_type": "code",
      "execution_count": null,
      "metadata": {
        "id": "4rHO9bvRTtH9",
        "outputId": "c4374cab-01d2-4946-8815-2f48b29a1aa8"
      },
      "outputs": [
        {
          "data": {
            "image/png": "[encoded data removed]",
            "text/plain": [
              "<Figure size 432x288 with 1 Axes>"
            ]
          },
          "metadata": {
            "needs_background": "light"
          },
          "output_type": "display_data"
        }
      ],
      "source": [
        "shooting_jurisdiction_code_plot=shooting_jurisdiction_code1.sort_values().plot(kind=\"barh\")"
      ]
    },
    {
      "cell_type": "code",
      "execution_count": null,
      "metadata": {
        "id": "lSmfCEs2TtH9"
      },
      "outputs": [],
      "source": [
        "#Brooklyn Shooting Incidents Jurisdiction Code Distribution"
      ]
    },
    {
      "cell_type": "code",
      "execution_count": null,
      "metadata": {
        "id": "MPR3C7ieTtH9",
        "outputId": "9aa9e7cd-00ac-4445-f2a9-b6c4c62f3107"
      },
      "outputs": [
        {
          "data": {
            "text/html": [
              "<div>\n",
              "<style scoped>\n",
              "    .dataframe tbody tr th:only-of-type {\n",
              "        vertical-align: middle;\n",
              "    }\n",
              "\n",
              "    .dataframe tbody tr th {\n",
              "        vertical-align: top;\n",
              "    }\n",
              "\n",
              "    .dataframe thead th {\n",
              "        text-align: right;\n",
              "    }\n",
              "</style>\n",
              "<table border=\"1\" class=\"dataframe\">\n",
              "  <thead>\n",
              "    <tr style=\"text-align: right;\">\n",
              "      <th></th>\n",
              "      <th>OCCUR_DATE</th>\n",
              "      <th>OCCUR_TIME</th>\n",
              "      <th>BORO</th>\n",
              "      <th>PRECINCT</th>\n",
              "      <th>JURISDICTION_CODE</th>\n",
              "      <th>STATISTICAL_MURDER_FLAG</th>\n",
              "      <th>PERP_AGE_GROUP</th>\n",
              "      <th>PERP_SEX</th>\n",
              "      <th>PERP_RACE</th>\n",
              "      <th>VIC_AGE_GROUP</th>\n",
              "      <th>VIC_SEX</th>\n",
              "      <th>VIC_RACE</th>\n",
              "      <th>X_COORD_CD</th>\n",
              "      <th>Y_COORD_CD</th>\n",
              "      <th>Latitude</th>\n",
              "      <th>Longitude</th>\n",
              "      <th>Lon_Lat</th>\n",
              "    </tr>\n",
              "  </thead>\n",
              "  <tbody>\n",
              "    <tr>\n",
              "      <th>1</th>\n",
              "      <td>07/16/2021</td>\n",
              "      <td>22:05:00</td>\n",
              "      <td>BROOKLYN</td>\n",
              "      <td>72</td>\n",
              "      <td>0.0</td>\n",
              "      <td>False</td>\n",
              "      <td>45-64</td>\n",
              "      <td>M</td>\n",
              "      <td>ASIAN / PACIFIC ISLANDER</td>\n",
              "      <td>25-44</td>\n",
              "      <td>M</td>\n",
              "      <td>ASIAN / PACIFIC ISLANDER</td>\n",
              "      <td>9.818450e+05</td>\n",
              "      <td>171118.000000</td>\n",
              "      <td>40.636364</td>\n",
              "      <td>-74.008667</td>\n",
              "      <td>POINT (-74.00866668999998 40.63636384100005)</td>\n",
              "    </tr>\n",
              "    <tr>\n",
              "      <th>2</th>\n",
              "      <td>07/11/2021</td>\n",
              "      <td>01:09:00</td>\n",
              "      <td>BROOKLYN</td>\n",
              "      <td>79</td>\n",
              "      <td>0.0</td>\n",
              "      <td>False</td>\n",
              "      <td>&lt;18</td>\n",
              "      <td>M</td>\n",
              "      <td>BLACK</td>\n",
              "      <td>25-44</td>\n",
              "      <td>M</td>\n",
              "      <td>BLACK</td>\n",
              "      <td>9.965460e+05</td>\n",
              "      <td>187436.000000</td>\n",
              "      <td>40.681145</td>\n",
              "      <td>-73.955669</td>\n",
              "      <td>POINT (-73.95566903799994 40.68114495900005)</td>\n",
              "    </tr>\n",
              "    <tr>\n",
              "      <th>9</th>\n",
              "      <td>03/07/2021</td>\n",
              "      <td>06:15:00</td>\n",
              "      <td>BROOKLYN</td>\n",
              "      <td>75</td>\n",
              "      <td>0.0</td>\n",
              "      <td>True</td>\n",
              "      <td>25-44</td>\n",
              "      <td>M</td>\n",
              "      <td>BLACK HISPANIC</td>\n",
              "      <td>25-44</td>\n",
              "      <td>M</td>\n",
              "      <td>WHITE HISPANIC</td>\n",
              "      <td>1.020492e+06</td>\n",
              "      <td>187865.000000</td>\n",
              "      <td>40.682257</td>\n",
              "      <td>-73.869331</td>\n",
              "      <td>POINT (-73.86933111399996 40.68225681500007)</td>\n",
              "    </tr>\n",
              "    <tr>\n",
              "      <th>18</th>\n",
              "      <td>01/12/2021</td>\n",
              "      <td>22:12:00</td>\n",
              "      <td>BROOKLYN</td>\n",
              "      <td>69</td>\n",
              "      <td>0.0</td>\n",
              "      <td>False</td>\n",
              "      <td>18-24</td>\n",
              "      <td>M</td>\n",
              "      <td>BLACK</td>\n",
              "      <td>18-24</td>\n",
              "      <td>M</td>\n",
              "      <td>BLACK</td>\n",
              "      <td>1.012580e+06</td>\n",
              "      <td>172896.000000</td>\n",
              "      <td>40.641199</td>\n",
              "      <td>-73.897921</td>\n",
              "      <td>POINT (-73.89792064799997 40.64119909400005)</td>\n",
              "    </tr>\n",
              "    <tr>\n",
              "      <th>48</th>\n",
              "      <td>04/02/2021</td>\n",
              "      <td>13:25:00</td>\n",
              "      <td>BROOKLYN</td>\n",
              "      <td>61</td>\n",
              "      <td>2.0</td>\n",
              "      <td>False</td>\n",
              "      <td>18-24</td>\n",
              "      <td>M</td>\n",
              "      <td>BLACK</td>\n",
              "      <td>18-24</td>\n",
              "      <td>M</td>\n",
              "      <td>BLACK</td>\n",
              "      <td>9.951180e+05</td>\n",
              "      <td>155709.000000</td>\n",
              "      <td>40.594063</td>\n",
              "      <td>-73.960869</td>\n",
              "      <td>POINT (-73.96086869299995 40.59406298000005)</td>\n",
              "    </tr>\n",
              "    <tr>\n",
              "      <th>...</th>\n",
              "      <td>...</td>\n",
              "      <td>...</td>\n",
              "      <td>...</td>\n",
              "      <td>...</td>\n",
              "      <td>...</td>\n",
              "      <td>...</td>\n",
              "      <td>...</td>\n",
              "      <td>...</td>\n",
              "      <td>...</td>\n",
              "      <td>...</td>\n",
              "      <td>...</td>\n",
              "      <td>...</td>\n",
              "      <td>...</td>\n",
              "      <td>...</td>\n",
              "      <td>...</td>\n",
              "      <td>...</td>\n",
              "      <td>...</td>\n",
              "    </tr>\n",
              "    <tr>\n",
              "      <th>25579</th>\n",
              "      <td>10/08/2016</td>\n",
              "      <td>03:55:00</td>\n",
              "      <td>BROOKLYN</td>\n",
              "      <td>68</td>\n",
              "      <td>0.0</td>\n",
              "      <td>False</td>\n",
              "      <td>25-44</td>\n",
              "      <td>M</td>\n",
              "      <td>WHITE HISPANIC</td>\n",
              "      <td>25-44</td>\n",
              "      <td>M</td>\n",
              "      <td>WHITE HISPANIC</td>\n",
              "      <td>9.766536e+05</td>\n",
              "      <td>169712.671875</td>\n",
              "      <td>40.632504</td>\n",
              "      <td>-74.027370</td>\n",
              "      <td>POINT (-74.02736992699994 40.63250358100004)</td>\n",
              "    </tr>\n",
              "    <tr>\n",
              "      <th>25584</th>\n",
              "      <td>10/27/2014</td>\n",
              "      <td>17:05:00</td>\n",
              "      <td>BROOKLYN</td>\n",
              "      <td>67</td>\n",
              "      <td>0.0</td>\n",
              "      <td>False</td>\n",
              "      <td>18-24</td>\n",
              "      <td>M</td>\n",
              "      <td>BLACK</td>\n",
              "      <td>25-44</td>\n",
              "      <td>M</td>\n",
              "      <td>BLACK</td>\n",
              "      <td>9.987121e+05</td>\n",
              "      <td>170676.593750</td>\n",
              "      <td>40.635141</td>\n",
              "      <td>-73.947895</td>\n",
              "      <td>POINT (-73.94789538599997 40.635140797000076)</td>\n",
              "    </tr>\n",
              "    <tr>\n",
              "      <th>25588</th>\n",
              "      <td>08/26/2013</td>\n",
              "      <td>13:25:00</td>\n",
              "      <td>BROOKLYN</td>\n",
              "      <td>75</td>\n",
              "      <td>0.0</td>\n",
              "      <td>True</td>\n",
              "      <td>18-24</td>\n",
              "      <td>M</td>\n",
              "      <td>BLACK</td>\n",
              "      <td>25-44</td>\n",
              "      <td>M</td>\n",
              "      <td>ASIAN / PACIFIC ISLANDER</td>\n",
              "      <td>1.014019e+06</td>\n",
              "      <td>180484.187500</td>\n",
              "      <td>40.662022</td>\n",
              "      <td>-73.892700</td>\n",
              "      <td>POINT (-73.89270047199994 40.662022285000035)</td>\n",
              "    </tr>\n",
              "    <tr>\n",
              "      <th>25591</th>\n",
              "      <td>08/12/2018</td>\n",
              "      <td>19:50:00</td>\n",
              "      <td>BROOKLYN</td>\n",
              "      <td>84</td>\n",
              "      <td>0.0</td>\n",
              "      <td>False</td>\n",
              "      <td>25-44</td>\n",
              "      <td>M</td>\n",
              "      <td>BLACK</td>\n",
              "      <td>65+</td>\n",
              "      <td>M</td>\n",
              "      <td>BLACK</td>\n",
              "      <td>9.891547e+05</td>\n",
              "      <td>193164.265625</td>\n",
              "      <td>40.696875</td>\n",
              "      <td>-73.982314</td>\n",
              "      <td>POINT (-73.98231375199998 40.69687491500008)</td>\n",
              "    </tr>\n",
              "    <tr>\n",
              "      <th>25593</th>\n",
              "      <td>02/25/2011</td>\n",
              "      <td>01:12:00</td>\n",
              "      <td>BROOKLYN</td>\n",
              "      <td>81</td>\n",
              "      <td>0.0</td>\n",
              "      <td>False</td>\n",
              "      <td>18-24</td>\n",
              "      <td>M</td>\n",
              "      <td>BLACK</td>\n",
              "      <td>&lt;18</td>\n",
              "      <td>M</td>\n",
              "      <td>BLACK</td>\n",
              "      <td>1.003999e+06</td>\n",
              "      <td>187611.031250</td>\n",
              "      <td>40.681612</td>\n",
              "      <td>-73.928798</td>\n",
              "      <td>POINT (-73.92879814299994 40.681611891000045)</td>\n",
              "    </tr>\n",
              "  </tbody>\n",
              "</table>\n",
              "<p>6074 rows × 17 columns</p>\n",
              "</div>"
            ],
            "text/plain": [
              "       OCCUR_DATE OCCUR_TIME      BORO  PRECINCT  JURISDICTION_CODE  \\\n",
              "1      07/16/2021   22:05:00  BROOKLYN        72                0.0   \n",
              "2      07/11/2021   01:09:00  BROOKLYN        79                0.0   \n",
              "9      03/07/2021   06:15:00  BROOKLYN        75                0.0   \n",
              "18     01/12/2021   22:12:00  BROOKLYN        69                0.0   \n",
              "48     04/02/2021   13:25:00  BROOKLYN        61                2.0   \n",
              "...           ...        ...       ...       ...                ...   \n",
              "25579  10/08/2016   03:55:00  BROOKLYN        68                0.0   \n",
              "25584  10/27/2014   17:05:00  BROOKLYN        67                0.0   \n",
              "25588  08/26/2013   13:25:00  BROOKLYN        75                0.0   \n",
              "25591  08/12/2018   19:50:00  BROOKLYN        84                0.0   \n",
              "25593  02/25/2011   01:12:00  BROOKLYN        81                0.0   \n",
              "\n",
              "       STATISTICAL_MURDER_FLAG PERP_AGE_GROUP PERP_SEX  \\\n",
              "1                        False          45-64        M   \n",
              "2                        False            <18        M   \n",
              "9                         True          25-44        M   \n",
              "18                       False          18-24        M   \n",
              "48                       False          18-24        M   \n",
              "...                        ...            ...      ...   \n",
              "25579                    False          25-44        M   \n",
              "25584                    False          18-24        M   \n",
              "25588                     True          18-24        M   \n",
              "25591                    False          25-44        M   \n",
              "25593                    False          18-24        M   \n",
              "\n",
              "                      PERP_RACE VIC_AGE_GROUP VIC_SEX  \\\n",
              "1      ASIAN / PACIFIC ISLANDER         25-44       M   \n",
              "2                         BLACK         25-44       M   \n",
              "9                BLACK HISPANIC         25-44       M   \n",
              "18                        BLACK         18-24       M   \n",
              "48                        BLACK         18-24       M   \n",
              "...                         ...           ...     ...   \n",
              "25579            WHITE HISPANIC         25-44       M   \n",
              "25584                     BLACK         25-44       M   \n",
              "25588                     BLACK         25-44       M   \n",
              "25591                     BLACK           65+       M   \n",
              "25593                     BLACK           <18       M   \n",
              "\n",
              "                       VIC_RACE    X_COORD_CD     Y_COORD_CD   Latitude  \\\n",
              "1      ASIAN / PACIFIC ISLANDER  9.818450e+05  171118.000000  40.636364   \n",
              "2                         BLACK  9.965460e+05  187436.000000  40.681145   \n",
              "9                WHITE HISPANIC  1.020492e+06  187865.000000  40.682257   \n",
              "18                        BLACK  1.012580e+06  172896.000000  40.641199   \n",
              "48                        BLACK  9.951180e+05  155709.000000  40.594063   \n",
              "...                         ...           ...            ...        ...   \n",
              "25579            WHITE HISPANIC  9.766536e+05  169712.671875  40.632504   \n",
              "25584                     BLACK  9.987121e+05  170676.593750  40.635141   \n",
              "25588  ASIAN / PACIFIC ISLANDER  1.014019e+06  180484.187500  40.662022   \n",
              "25591                     BLACK  9.891547e+05  193164.265625  40.696875   \n",
              "25593                     BLACK  1.003999e+06  187611.031250  40.681612   \n",
              "\n",
              "       Longitude                                        Lon_Lat  \n",
              "1     -74.008667   POINT (-74.00866668999998 40.63636384100005)  \n",
              "2     -73.955669   POINT (-73.95566903799994 40.68114495900005)  \n",
              "9     -73.869331   POINT (-73.86933111399996 40.68225681500007)  \n",
              "18    -73.897921   POINT (-73.89792064799997 40.64119909400005)  \n",
              "48    -73.960869   POINT (-73.96086869299995 40.59406298000005)  \n",
              "...          ...                                            ...  \n",
              "25579 -74.027370   POINT (-74.02736992699994 40.63250358100004)  \n",
              "25584 -73.947895  POINT (-73.94789538599997 40.635140797000076)  \n",
              "25588 -73.892700  POINT (-73.89270047199994 40.662022285000035)  \n",
              "25591 -73.982314   POINT (-73.98231375199998 40.69687491500008)  \n",
              "25593 -73.928798  POINT (-73.92879814299994 40.681611891000045)  \n",
              "\n",
              "[6074 rows x 17 columns]"
            ]
          },
          "execution_count": 29,
          "metadata": {},
          "output_type": "execute_result"
        }
      ],
      "source": [
        "nypd_brooklyn=nypd.loc[nypd[\"BORO\"]== \"BROOKLYN\"]\n",
        "nypd_brooklyn"
      ]
    },
    {
      "cell_type": "code",
      "execution_count": null,
      "metadata": {
        "id": "49IkFdcBTtH-",
        "outputId": "e595b5cb-b364-45a4-d7d2-f0b92e0eaa0b"
      },
      "outputs": [
        {
          "data": {
            "text/plain": [
              "JURISDICTION_CODE\n",
              "0.0    4980\n",
              "1.0      16\n",
              "2.0    1078\n",
              "Name: JURISDICTION_CODE, dtype: int64"
            ]
          },
          "execution_count": 30,
          "metadata": {},
          "output_type": "execute_result"
        }
      ],
      "source": [
        "shooting_jurisdiction_code=nypd_brooklyn.groupby(\"JURISDICTION_CODE\")\n",
        "shooting_jurisdiction_code1=shooting_jurisdiction_code[\"JURISDICTION_CODE\"].count()\n",
        "shooting_jurisdiction_code1"
      ]
    },
    {
      "cell_type": "code",
      "execution_count": null,
      "metadata": {
        "id": "QMVkt3-4TtH_",
        "outputId": "612870c6-49d2-4fa1-fbe2-e49c268a8a63"
      },
      "outputs": [
        {
          "data": {
            "image/png": "[encoded data removed]",
            "text/plain": [
              "<Figure size 432x288 with 1 Axes>"
            ]
          },
          "metadata": {
            "needs_background": "light"
          },
          "output_type": "display_data"
        }
      ],
      "source": [
        "shooting_jurisdiction_code_plot=shooting_jurisdiction_code1.sort_values().plot(kind=\"barh\")"
      ]
    },
    {
      "cell_type": "code",
      "execution_count": null,
      "metadata": {
        "outputId": "e595b5cb-b364-45a4-d7d2-f0b92e0eaa0b",
        "id": "Ul7A0cJlU44e"
      },
      "outputs": [
        {
          "data": {
            "text/plain": [
              "JURISDICTION_CODE\n",
              "0.0    4980\n",
              "1.0      16\n",
              "2.0    1078\n",
              "Name: JURISDICTION_CODE, dtype: int64"
            ]
          },
          "execution_count": 30,
          "metadata": {},
          "output_type": "execute_result"
        }
      ],
      "source": [
        "shooting_jurisdiction_code=nypd_brooklyn.groupby(\"JURISDICTION_CODE\")\n",
        "shooting_jurisdiction_code1=shooting_jurisdiction_code[\"JURISDICTION_CODE\"].count()\n",
        "shooting_jurisdiction_code1"
      ]
    },
    {
      "cell_type": "code",
      "execution_count": null,
      "metadata": {
        "id": "3vSMKzcqTtH_"
      },
      "outputs": [],
      "source": [
        "#Staten Island Shooting Incidents Jurisdiction Code Distribution"
      ]
    },
    {
      "cell_type": "code",
      "execution_count": null,
      "metadata": {
        "id": "O1vbmEwwTtH_",
        "outputId": "43fbd32f-ecdc-4739-b8ab-50b6a93b41f3"
      },
      "outputs": [
        {
          "data": {
            "text/html": [
              "<div>\n",
              "<style scoped>\n",
              "    .dataframe tbody tr th:only-of-type {\n",
              "        vertical-align: middle;\n",
              "    }\n",
              "\n",
              "    .dataframe tbody tr th {\n",
              "        vertical-align: top;\n",
              "    }\n",
              "\n",
              "    .dataframe thead th {\n",
              "        text-align: right;\n",
              "    }\n",
              "</style>\n",
              "<table border=\"1\" class=\"dataframe\">\n",
              "  <thead>\n",
              "    <tr style=\"text-align: right;\">\n",
              "      <th></th>\n",
              "      <th>OCCUR_DATE</th>\n",
              "      <th>OCCUR_TIME</th>\n",
              "      <th>BORO</th>\n",
              "      <th>PRECINCT</th>\n",
              "      <th>JURISDICTION_CODE</th>\n",
              "      <th>STATISTICAL_MURDER_FLAG</th>\n",
              "      <th>PERP_AGE_GROUP</th>\n",
              "      <th>PERP_SEX</th>\n",
              "      <th>PERP_RACE</th>\n",
              "      <th>VIC_AGE_GROUP</th>\n",
              "      <th>VIC_SEX</th>\n",
              "      <th>VIC_RACE</th>\n",
              "      <th>X_COORD_CD</th>\n",
              "      <th>Y_COORD_CD</th>\n",
              "      <th>Latitude</th>\n",
              "      <th>Longitude</th>\n",
              "      <th>Lon_Lat</th>\n",
              "    </tr>\n",
              "  </thead>\n",
              "  <tbody>\n",
              "    <tr>\n",
              "      <th>83</th>\n",
              "      <td>05/02/2021</td>\n",
              "      <td>20:22:00</td>\n",
              "      <td>STATEN ISLAND</td>\n",
              "      <td>120</td>\n",
              "      <td>0.0</td>\n",
              "      <td>False</td>\n",
              "      <td>25-44</td>\n",
              "      <td>M</td>\n",
              "      <td>BLACK</td>\n",
              "      <td>25-44</td>\n",
              "      <td>M</td>\n",
              "      <td>BLACK</td>\n",
              "      <td>952145.0000</td>\n",
              "      <td>171452.000000</td>\n",
              "      <td>40.637223</td>\n",
              "      <td>-74.115678</td>\n",
              "      <td>POINT (-74.11567771499993 40.63722273800005)</td>\n",
              "    </tr>\n",
              "    <tr>\n",
              "      <th>97</th>\n",
              "      <td>06/22/2021</td>\n",
              "      <td>16:11:00</td>\n",
              "      <td>STATEN ISLAND</td>\n",
              "      <td>120</td>\n",
              "      <td>0.0</td>\n",
              "      <td>False</td>\n",
              "      <td>25-44</td>\n",
              "      <td>M</td>\n",
              "      <td>WHITE</td>\n",
              "      <td>25-44</td>\n",
              "      <td>M</td>\n",
              "      <td>WHITE HISPANIC</td>\n",
              "      <td>965963.0000</td>\n",
              "      <td>159865.000000</td>\n",
              "      <td>40.605458</td>\n",
              "      <td>-74.065859</td>\n",
              "      <td>POINT (-74.06585925399997 40.60545815100004)</td>\n",
              "    </tr>\n",
              "    <tr>\n",
              "      <th>223</th>\n",
              "      <td>11/19/2021</td>\n",
              "      <td>21:57:00</td>\n",
              "      <td>STATEN ISLAND</td>\n",
              "      <td>120</td>\n",
              "      <td>0.0</td>\n",
              "      <td>False</td>\n",
              "      <td>25-44</td>\n",
              "      <td>M</td>\n",
              "      <td>WHITE</td>\n",
              "      <td>45-64</td>\n",
              "      <td>M</td>\n",
              "      <td>WHITE</td>\n",
              "      <td>963769.0000</td>\n",
              "      <td>166555.000000</td>\n",
              "      <td>40.623816</td>\n",
              "      <td>-74.073781</td>\n",
              "      <td>POINT (-74.07378089799995 40.62381601700002)</td>\n",
              "    </tr>\n",
              "    <tr>\n",
              "      <th>292</th>\n",
              "      <td>11/19/2021</td>\n",
              "      <td>21:57:00</td>\n",
              "      <td>STATEN ISLAND</td>\n",
              "      <td>120</td>\n",
              "      <td>0.0</td>\n",
              "      <td>False</td>\n",
              "      <td>25-44</td>\n",
              "      <td>M</td>\n",
              "      <td>WHITE</td>\n",
              "      <td>25-44</td>\n",
              "      <td>M</td>\n",
              "      <td>WHITE</td>\n",
              "      <td>963769.0000</td>\n",
              "      <td>166555.000000</td>\n",
              "      <td>40.623816</td>\n",
              "      <td>-74.073781</td>\n",
              "      <td>POINT (-74.07378089799995 40.62381601700002)</td>\n",
              "    </tr>\n",
              "    <tr>\n",
              "      <th>311</th>\n",
              "      <td>01/16/2021</td>\n",
              "      <td>19:48:00</td>\n",
              "      <td>STATEN ISLAND</td>\n",
              "      <td>120</td>\n",
              "      <td>0.0</td>\n",
              "      <td>True</td>\n",
              "      <td>25-44</td>\n",
              "      <td>M</td>\n",
              "      <td>BLACK</td>\n",
              "      <td>18-24</td>\n",
              "      <td>M</td>\n",
              "      <td>BLACK</td>\n",
              "      <td>960041.0000</td>\n",
              "      <td>163798.000000</td>\n",
              "      <td>40.616239</td>\n",
              "      <td>-74.087201</td>\n",
              "      <td>POINT (-74.08720051399997 40.616239224000026)</td>\n",
              "    </tr>\n",
              "    <tr>\n",
              "      <th>...</th>\n",
              "      <td>...</td>\n",
              "      <td>...</td>\n",
              "      <td>...</td>\n",
              "      <td>...</td>\n",
              "      <td>...</td>\n",
              "      <td>...</td>\n",
              "      <td>...</td>\n",
              "      <td>...</td>\n",
              "      <td>...</td>\n",
              "      <td>...</td>\n",
              "      <td>...</td>\n",
              "      <td>...</td>\n",
              "      <td>...</td>\n",
              "      <td>...</td>\n",
              "      <td>...</td>\n",
              "      <td>...</td>\n",
              "      <td>...</td>\n",
              "    </tr>\n",
              "    <tr>\n",
              "      <th>25302</th>\n",
              "      <td>08/10/2020</td>\n",
              "      <td>15:20:00</td>\n",
              "      <td>STATEN ISLAND</td>\n",
              "      <td>121</td>\n",
              "      <td>0.0</td>\n",
              "      <td>False</td>\n",
              "      <td>&lt;18</td>\n",
              "      <td>M</td>\n",
              "      <td>BLACK</td>\n",
              "      <td>18-24</td>\n",
              "      <td>M</td>\n",
              "      <td>BLACK</td>\n",
              "      <td>938372.6875</td>\n",
              "      <td>169289.750000</td>\n",
              "      <td>40.631227</td>\n",
              "      <td>-74.165285</td>\n",
              "      <td>POINT (-74.16528539599994 40.63122720300004)</td>\n",
              "    </tr>\n",
              "    <tr>\n",
              "      <th>25347</th>\n",
              "      <td>05/17/2011</td>\n",
              "      <td>12:32:00</td>\n",
              "      <td>STATEN ISLAND</td>\n",
              "      <td>123</td>\n",
              "      <td>0.0</td>\n",
              "      <td>True</td>\n",
              "      <td>45-64</td>\n",
              "      <td>M</td>\n",
              "      <td>WHITE</td>\n",
              "      <td>45-64</td>\n",
              "      <td>F</td>\n",
              "      <td>WHITE</td>\n",
              "      <td>932461.5625</td>\n",
              "      <td>134246.765625</td>\n",
              "      <td>40.535009</td>\n",
              "      <td>-74.186313</td>\n",
              "      <td>POINT (-74.18631304299998 40.535008779000066)</td>\n",
              "    </tr>\n",
              "    <tr>\n",
              "      <th>25368</th>\n",
              "      <td>01/24/2017</td>\n",
              "      <td>18:35:00</td>\n",
              "      <td>STATEN ISLAND</td>\n",
              "      <td>120</td>\n",
              "      <td>0.0</td>\n",
              "      <td>False</td>\n",
              "      <td>&lt;18</td>\n",
              "      <td>M</td>\n",
              "      <td>BLACK</td>\n",
              "      <td>18-24</td>\n",
              "      <td>M</td>\n",
              "      <td>BLACK</td>\n",
              "      <td>952145.1250</td>\n",
              "      <td>171451.734375</td>\n",
              "      <td>40.637222</td>\n",
              "      <td>-74.115677</td>\n",
              "      <td>POINT (-74.11567726399994 40.63722200900003)</td>\n",
              "    </tr>\n",
              "    <tr>\n",
              "      <th>25446</th>\n",
              "      <td>02/11/2007</td>\n",
              "      <td>04:30:00</td>\n",
              "      <td>STATEN ISLAND</td>\n",
              "      <td>120</td>\n",
              "      <td>0.0</td>\n",
              "      <td>True</td>\n",
              "      <td>18-24</td>\n",
              "      <td>M</td>\n",
              "      <td>BLACK</td>\n",
              "      <td>18-24</td>\n",
              "      <td>M</td>\n",
              "      <td>BLACK</td>\n",
              "      <td>963290.1250</td>\n",
              "      <td>167192.406250</td>\n",
              "      <td>40.625564</td>\n",
              "      <td>-74.075508</td>\n",
              "      <td>POINT (-74.07550794499997 40.62556444300003)</td>\n",
              "    </tr>\n",
              "    <tr>\n",
              "      <th>25464</th>\n",
              "      <td>12/22/2007</td>\n",
              "      <td>03:47:00</td>\n",
              "      <td>STATEN ISLAND</td>\n",
              "      <td>120</td>\n",
              "      <td>0.0</td>\n",
              "      <td>False</td>\n",
              "      <td>UNKNOWN</td>\n",
              "      <td>U</td>\n",
              "      <td>UNKNOWN</td>\n",
              "      <td>25-44</td>\n",
              "      <td>M</td>\n",
              "      <td>BLACK</td>\n",
              "      <td>963161.6875</td>\n",
              "      <td>168493.968750</td>\n",
              "      <td>40.629137</td>\n",
              "      <td>-74.075975</td>\n",
              "      <td>POINT (-74.07597469899997 40.629136653000046)</td>\n",
              "    </tr>\n",
              "  </tbody>\n",
              "</table>\n",
              "<p>591 rows × 17 columns</p>\n",
              "</div>"
            ],
            "text/plain": [
              "       OCCUR_DATE OCCUR_TIME           BORO  PRECINCT  JURISDICTION_CODE  \\\n",
              "83     05/02/2021   20:22:00  STATEN ISLAND       120                0.0   \n",
              "97     06/22/2021   16:11:00  STATEN ISLAND       120                0.0   \n",
              "223    11/19/2021   21:57:00  STATEN ISLAND       120                0.0   \n",
              "292    11/19/2021   21:57:00  STATEN ISLAND       120                0.0   \n",
              "311    01/16/2021   19:48:00  STATEN ISLAND       120                0.0   \n",
              "...           ...        ...            ...       ...                ...   \n",
              "25302  08/10/2020   15:20:00  STATEN ISLAND       121                0.0   \n",
              "25347  05/17/2011   12:32:00  STATEN ISLAND       123                0.0   \n",
              "25368  01/24/2017   18:35:00  STATEN ISLAND       120                0.0   \n",
              "25446  02/11/2007   04:30:00  STATEN ISLAND       120                0.0   \n",
              "25464  12/22/2007   03:47:00  STATEN ISLAND       120                0.0   \n",
              "\n",
              "       STATISTICAL_MURDER_FLAG PERP_AGE_GROUP PERP_SEX PERP_RACE  \\\n",
              "83                       False          25-44        M     BLACK   \n",
              "97                       False          25-44        M     WHITE   \n",
              "223                      False          25-44        M     WHITE   \n",
              "292                      False          25-44        M     WHITE   \n",
              "311                       True          25-44        M     BLACK   \n",
              "...                        ...            ...      ...       ...   \n",
              "25302                    False            <18        M     BLACK   \n",
              "25347                     True          45-64        M     WHITE   \n",
              "25368                    False            <18        M     BLACK   \n",
              "25446                     True          18-24        M     BLACK   \n",
              "25464                    False        UNKNOWN        U   UNKNOWN   \n",
              "\n",
              "      VIC_AGE_GROUP VIC_SEX        VIC_RACE   X_COORD_CD     Y_COORD_CD  \\\n",
              "83            25-44       M           BLACK  952145.0000  171452.000000   \n",
              "97            25-44       M  WHITE HISPANIC  965963.0000  159865.000000   \n",
              "223           45-64       M           WHITE  963769.0000  166555.000000   \n",
              "292           25-44       M           WHITE  963769.0000  166555.000000   \n",
              "311           18-24       M           BLACK  960041.0000  163798.000000   \n",
              "...             ...     ...             ...          ...            ...   \n",
              "25302         18-24       M           BLACK  938372.6875  169289.750000   \n",
              "25347         45-64       F           WHITE  932461.5625  134246.765625   \n",
              "25368         18-24       M           BLACK  952145.1250  171451.734375   \n",
              "25446         18-24       M           BLACK  963290.1250  167192.406250   \n",
              "25464         25-44       M           BLACK  963161.6875  168493.968750   \n",
              "\n",
              "        Latitude  Longitude                                        Lon_Lat  \n",
              "83     40.637223 -74.115678   POINT (-74.11567771499993 40.63722273800005)  \n",
              "97     40.605458 -74.065859   POINT (-74.06585925399997 40.60545815100004)  \n",
              "223    40.623816 -74.073781   POINT (-74.07378089799995 40.62381601700002)  \n",
              "292    40.623816 -74.073781   POINT (-74.07378089799995 40.62381601700002)  \n",
              "311    40.616239 -74.087201  POINT (-74.08720051399997 40.616239224000026)  \n",
              "...          ...        ...                                            ...  \n",
              "25302  40.631227 -74.165285   POINT (-74.16528539599994 40.63122720300004)  \n",
              "25347  40.535009 -74.186313  POINT (-74.18631304299998 40.535008779000066)  \n",
              "25368  40.637222 -74.115677   POINT (-74.11567726399994 40.63722200900003)  \n",
              "25446  40.625564 -74.075508   POINT (-74.07550794499997 40.62556444300003)  \n",
              "25464  40.629137 -74.075975  POINT (-74.07597469899997 40.629136653000046)  \n",
              "\n",
              "[591 rows x 17 columns]"
            ]
          },
          "execution_count": 39,
          "metadata": {},
          "output_type": "execute_result"
        }
      ],
      "source": [
        "nypd_staten_island=nypd.loc[nypd[\"BORO\"]== \"STATEN ISLAND\"]\n",
        "nypd_staten_island"
      ]
    },
    {
      "cell_type": "code",
      "execution_count": null,
      "metadata": {
        "id": "O2kMirf0TtIA",
        "outputId": "d40290e0-19a4-4399-e3bb-346ea99a795a"
      },
      "outputs": [
        {
          "data": {
            "text/plain": [
              "JURISDICTION_CODE\n",
              "0.0    530\n",
              "2.0     61\n",
              "Name: JURISDICTION_CODE, dtype: int64"
            ]
          },
          "execution_count": 40,
          "metadata": {},
          "output_type": "execute_result"
        }
      ],
      "source": [
        "shooting_jurisdiction_code=nypd_staten_island.groupby(\"JURISDICTION_CODE\")\n",
        "shooting_jurisdiction_code1=shooting_jurisdiction_code[\"JURISDICTION_CODE\"].count()\n",
        "shooting_jurisdiction_code1"
      ]
    },
    {
      "cell_type": "code",
      "execution_count": null,
      "metadata": {
        "id": "XMp9FKyfTtIA",
        "outputId": "8f9243ea-ba61-4d1b-9bc4-baaeb7b06699"
      },
      "outputs": [
        {
          "data": {
            "image/png": "[encoded data removed]",
            "text/plain": [
              "<Figure size 432x288 with 1 Axes>"
            ]
          },
          "metadata": {
            "needs_background": "light"
          },
          "output_type": "display_data"
        }
      ],
      "source": [
        "shooting_jurisdiction_code_plot=shooting_jurisdiction_code1.sort_values().plot(kind=\"barh\")"
      ]
    },
    {
      "cell_type": "markdown",
      "source": [
        "**Part 3: Victim/Perpetrator Data NYPD Historic Shooting (Jinkai Chen)**"
      ],
      "metadata": {
        "id": "ald4OvjF53oy"
      }
    },
    {
      "cell_type": "code",
      "execution_count": 79,
      "metadata": {
        "id": "e8fRava07JE5"
      },
      "outputs": [],
      "source": [
        "# 5 W’s : Who\n",
        "# Victim/Perpetrator Stats (Jinkai)"
      ]
    },
    {
      "cell_type": "code",
      "execution_count": 80,
      "metadata": {
        "id": "Xs0Dfsu96NYU"
      },
      "outputs": [],
      "source": [
        "# Horizontal Bar: Perpetrator Race"
      ]
    },
    {
      "cell_type": "code",
      "execution_count": 81,
      "metadata": {
        "id": "dPaWvN0c6NYV"
      },
      "outputs": [],
      "source": [
        "# Group by and Count \"Perpetrator Race\" Column\n",
        "perpetrator_race = nypd.groupby(\"PERP_RACE\")\n",
        "perpetrator_race_1 = perpetrator_race[\"PERP_RACE\"].count()"
      ]
    },
    {
      "cell_type": "code",
      "execution_count": 82,
      "metadata": {
        "id": "LCJhFhI06NYV"
      },
      "outputs": [],
      "source": [
        "# Drop unwanted rows\n",
        "perpetrator_race_2 = perpetrator_race_1.drop(['UNKNOWN','AMERICAN INDIAN/ALASKAN NATIVE'])"
      ]
    },
    {
      "cell_type": "code",
      "execution_count": 83,
      "metadata": {
        "id": "uV30j8AU6NYV",
        "outputId": "54be8258-d104-43e2-cf5d-ad64ecf2366b",
        "colab": {
          "base_uri": "https://localhost:8080/",
          "height": 356
        }
      },
      "outputs": [
        {
          "output_type": "display_data",
          "data": {
            "text/plain": [
              "<Figure size 720x360 with 1 Axes>"
            ],
            "image/png": "[encoded data removed]"
          },
          "metadata": {
            "needs_background": "light"
          }
        }
      ],
      "source": [
        "# Create a Sorted Horizontal Bar \n",
        "perpetrator_race_2_plot = perpetrator_race_2.sort_values().plot(kind=\"barh\",color=['orange','brown','purple','blue','red'],grid=True,figsize=(10,5))\n",
        "perpetrator_race_2_plot.set_xlabel(\"Shooting Incidents\",fontsize='14')\n",
        "perpetrator_race_2_plot.set_ylabel(\"Perpetrator Race\",fontsize='14')\n",
        "perpetrator_race_2_plot.set_title(\"Number of Shooting Incidents by Perpetrator Race\",fontsize='15')\n",
        "plt.show()\n",
        "# horizontal bar plot allows easy comparison for totals of shooting incidents by different race. The majority of shooting incidents are by Black Perpetrator. "
      ]
    },
    {
      "cell_type": "code",
      "execution_count": 84,
      "metadata": {
        "id": "3QNlq5e36NYW"
      },
      "outputs": [],
      "source": [
        "# Vertical Bar with Line: Perpetrator Age Groups"
      ]
    },
    {
      "cell_type": "code",
      "execution_count": 85,
      "metadata": {
        "id": "GpJv3B9X6NYX"
      },
      "outputs": [],
      "source": [
        "# Groupped by Perpetrator age group\n",
        "perp_age = nypd.groupby(\"PERP_AGE_GROUP\").count()"
      ]
    },
    {
      "cell_type": "code",
      "execution_count": 86,
      "metadata": {
        "id": "PLu_fh_s6NYX"
      },
      "outputs": [],
      "source": [
        "# Dropped rows \"Unknown\", \"1020\", \"940\", \"224\"\n",
        "perp_age_1 = perp_age.drop(['UNKNOWN','1020','940','224']).reset_index()"
      ]
    },
    {
      "cell_type": "code",
      "execution_count": 87,
      "metadata": {
        "id": "OU3kFvFM6NYX",
        "outputId": "c3d58bfe-274f-4ac9-a550-07c4a3e13e9b",
        "colab": {
          "base_uri": "https://localhost:8080/",
          "height": 627
        }
      },
      "outputs": [
        {
          "output_type": "display_data",
          "data": {
            "text/plain": [
              "<Figure size 1080x720 with 1 Axes>"
            ],
            "image/png": "[encoded data removed]"
          },
          "metadata": {
            "needs_background": "light"
          }
        }
      ],
      "source": [
        "# Plotting each Perpetrator age group with a bar chart and a line chart\n",
        "fig,ax = plt.subplots(figsize=(15,10))\n",
        "sns.barplot(x=perp_age_1[perp_age_1.columns[0]],y=perp_age_1[perp_age_1.columns[1]],color='lightblue',ax=ax)\n",
        "sns.lineplot(x=perp_age_1[perp_age_1.columns[0]],y=perp_age_1[perp_age_1.columns[1]],color='steelblue',marker='o',ax=ax)\n",
        "ax.set_xlabel('Perpetrator Age Group',fontsize='14')\n",
        "ax.set_ylabel('Number of Shooting Incidents', fontsize='14')\n",
        "plt.title('Number of Shooting Incidents by Perpetrator Age Group',fontsize='15')\n",
        "plt.show()\n",
        "# The majority of shooting incidents concentrate at Perpetrator's \"18-24\" and \"25-44\" Age Groups  "
      ]
    },
    {
      "cell_type": "code",
      "execution_count": 88,
      "metadata": {
        "id": "WUISZlH96NYY"
      },
      "outputs": [],
      "source": [
        "# Stacked Bar: Perpetrator Gender and Age Groups"
      ]
    },
    {
      "cell_type": "code",
      "execution_count": 89,
      "metadata": {
        "id": "KhNwDPiz6NYY"
      },
      "outputs": [],
      "source": [
        "# Group by Perpetrator Age and Gender\n",
        "# Count Grouped fields\n",
        "perp_gender = nypd.groupby(['PERP_AGE_GROUP','PERP_SEX'])\n",
        "perp_gender_1 = perp_gender.count().reset_index()"
      ]
    },
    {
      "cell_type": "code",
      "execution_count": 90,
      "metadata": {
        "id": "YSvjlB4x6NYY"
      },
      "outputs": [],
      "source": [
        "# Filtered Perpetrator Gender to be Male Only\n",
        "# Dropped rows UNKNOWN\",\"224\",\"940\",\"1020\" in Perp Age Group\n",
        "perp_gender_male = perp_gender_1[(perp_gender_1.PERP_SEX == 'M')]\n",
        "perp_gender_male = perp_gender_male.drop([0,4,12,17])"
      ]
    },
    {
      "cell_type": "code",
      "execution_count": 91,
      "metadata": {
        "id": "8XM8aJFK6NYZ"
      },
      "outputs": [],
      "source": [
        "# Filtered Perpetrator gender to be Female only\n",
        "# Dropped a row to clean data\n",
        "perp_gender_female = perp_gender_1[(perp_gender_1.PERP_SEX == 'F')]\n",
        "perp_gender_female = perp_gender_female.drop(16)"
      ]
    },
    {
      "cell_type": "code",
      "execution_count": 92,
      "metadata": {
        "id": "oHpi1vGP6NYZ"
      },
      "outputs": [],
      "source": [
        "# Renamed Columns\n",
        "# Merged Male and Female on \"PERP_AGE_GROUP\"\n",
        "M = perp_gender_male.rename(columns={'PERP_RACE': 'Male', 'PERP_SEX':'Gender_Male'})\n",
        "F = perp_gender_female.rename(columns={'PERP_RACE': 'Female', 'PERP_SEX': 'Gender_Female'})\n",
        "Male_and_Female = pd.merge(M, F, on='PERP_AGE_GROUP')"
      ]
    },
    {
      "cell_type": "code",
      "execution_count": 93,
      "metadata": {
        "id": "i7NMyZ5t6NYZ",
        "outputId": "39e81d05-2a27-4af4-9d38-b0bedea839e0",
        "colab": {
          "base_uri": "https://localhost:8080/",
          "height": 646
        }
      },
      "outputs": [
        {
          "output_type": "display_data",
          "data": {
            "text/plain": [
              "<Figure size 1080x720 with 1 Axes>"
            ],
            "image/png": "[encoded data removed]"
          },
          "metadata": {
            "needs_background": "light"
          }
        }
      ],
      "source": [
        "# Created a stacked bar chart based on Perpetrator Gender and Age Groups\n",
        "Male_and_Female.plot(x='PERP_AGE_GROUP', y=['Male', 'Female'], kind='bar',stacked=True,figsize=(15,10))\n",
        "plt.title(\"Number of Shooting Incidents by Perpetrator Gender & Age Groups\",fontsize='15')\n",
        "plt.xlabel(\"Perpetrator Age Groups\",fontsize='14')\n",
        "plt.ylabel(\"Number of Shooting Incidents\",fontsize='14')\n",
        "plt.show()\n",
        "# Stacked vertical bar plot we can visualize the compare totals of shooting incidents across perpetrator's gender and in different age groups. "
      ]
    },
    {
      "cell_type": "markdown",
      "source": [
        "**Part 4: Statistical Murder Flag Data NYPD Historic Shooting (Rahat Mahmud)**"
      ],
      "metadata": {
        "id": "xyH_VQ7d7zhZ"
      }
    },
    {
      "cell_type": "code",
      "execution_count": 94,
      "metadata": {
        "id": "IjOKJB_05QlG",
        "outputId": "13e4b03d-13fe-4298-cf45-e6b6d67fcc28",
        "colab": {
          "base_uri": "https://localhost:8080/",
          "height": 834
        }
      },
      "outputs": [
        {
          "output_type": "execute_result",
          "data": {
            "text/plain": [
              "       OCCUR_DATE OCCUR_TIME       BORO  PRECINCT  JURISDICTION_CODE  \\\n",
              "9      03/07/2021   06:15:00   BROOKLYN        75                0.0   \n",
              "12     05/09/2021   02:50:00      BRONX        41                2.0   \n",
              "17     06/16/2021   23:22:00      BRONX        52                0.0   \n",
              "25     08/13/2021   01:00:00     QUEENS       109                0.0   \n",
              "35     09/13/2021   00:35:00  MANHATTAN        32                0.0   \n",
              "...           ...        ...        ...       ...                ...   \n",
              "25556  08/22/2015   07:30:00   BROOKLYN        83                0.0   \n",
              "25569  11/15/2019   20:22:00      BRONX        46                0.0   \n",
              "25576  08/23/2012   13:22:00      BRONX        44                0.0   \n",
              "25578  09/15/2007   04:09:00   BROOKLYN        68                0.0   \n",
              "25588  08/26/2013   13:25:00   BROOKLYN        75                0.0   \n",
              "\n",
              "       STATISTICAL_MURDER_FLAG PERP_AGE_GROUP PERP_SEX       PERP_RACE  \\\n",
              "9                         True          25-44        M  BLACK HISPANIC   \n",
              "12                        True          25-44        M           BLACK   \n",
              "17                        True          25-44        M           BLACK   \n",
              "25                        True          18-24        M           BLACK   \n",
              "35                        True          18-24        M           BLACK   \n",
              "...                        ...            ...      ...             ...   \n",
              "25556                     True          25-44        M  WHITE HISPANIC   \n",
              "25569                     True            <18        M           BLACK   \n",
              "25576                     True          45-64        M           BLACK   \n",
              "25578                     True          25-44        M           WHITE   \n",
              "25588                     True          18-24        M           BLACK   \n",
              "\n",
              "      VIC_AGE_GROUP  ...                  VIC_RACE    X_COORD_CD  \\\n",
              "9             25-44  ...            WHITE HISPANIC  1.020492e+06   \n",
              "12            25-44  ...            BLACK HISPANIC  1.014642e+06   \n",
              "17            25-44  ...                     BLACK  1.014313e+06   \n",
              "25            18-24  ...                     BLACK  1.031552e+06   \n",
              "35            18-24  ...                     BLACK  1.001369e+06   \n",
              "...             ...  ...                       ...           ...   \n",
              "25556         25-44  ...            WHITE HISPANIC  1.005154e+06   \n",
              "25569         25-44  ...                     BLACK  1.006957e+06   \n",
              "25576         45-64  ...                     BLACK  1.004886e+06   \n",
              "25578         25-44  ...                     WHITE  9.827961e+05   \n",
              "25588         25-44  ...  ASIAN / PACIFIC ISLANDER  1.014019e+06   \n",
              "\n",
              "          Y_COORD_CD   Latitude  Longitude  \\\n",
              "9      187865.000000  40.682257 -73.869331   \n",
              "12     240068.000000  40.825563 -73.890187   \n",
              "17     254123.000000  40.864141 -73.891313   \n",
              "25     216518.000000  40.760850 -73.829253   \n",
              "35     236689.000000  40.816324 -73.938155   \n",
              "...              ...        ...        ...   \n",
              "25556  194758.609375  40.701228 -73.924610   \n",
              "25569  248722.812500  40.849341 -73.917927   \n",
              "25576  240825.343750  40.827670 -73.925437   \n",
              "25578  169177.234375  40.631037 -74.005239   \n",
              "25588  180484.187500  40.662022 -73.892700   \n",
              "\n",
              "                                             Lon_Lat  Year  Month  Day  Hour  \n",
              "9       POINT (-73.86933111399996 40.68225681500007)  2021      3    6     6  \n",
              "12      POINT (-73.89018728699995 40.82556269400004)  2021      5    6     2  \n",
              "17     POINT (-73.89131303799998 40.864140648000046)  2021      6    2    23  \n",
              "25     POINT (-73.82925306599996 40.760850049000055)  2021      8    4     1  \n",
              "35      POINT (-73.93815467099995 40.81632399000005)  2021      9    0     0  \n",
              "...                                              ...   ...    ...  ...   ...  \n",
              "25556   POINT (-73.92460963299999 40.70122768700003)  2015      8    5     7  \n",
              "25569   POINT (-73.91792721899998 40.84934073900007)  2019     11    4    20  \n",
              "25576  POINT (-73.92543701999995 40.827669567000044)  2012      8    3    13  \n",
              "25578   POINT (-74.00523935499996 40.63103705800006)  2007      9    5     4  \n",
              "25588  POINT (-73.89270047199994 40.662022285000035)  2013      8    0    13  \n",
              "\n",
              "[3222 rows x 21 columns]"
            ],
            "text/html": [
              "\n",
              "  <div id=\"df-3c37f56b-d80c-45ec-aeb8-59cccba69312\">\n",
              "    <div class=\"colab-df-container\">\n",
              "      <div>\n",
              "<style scoped>\n",
              "    .dataframe tbody tr th:only-of-type {\n",
              "        vertical-align: middle;\n",
              "    }\n",
              "\n",
              "    .dataframe tbody tr th {\n",
              "        vertical-align: top;\n",
              "    }\n",
              "\n",
              "    .dataframe thead th {\n",
              "        text-align: right;\n",
              "    }\n",
              "</style>\n",
              "<table border=\"1\" class=\"dataframe\">\n",
              "  <thead>\n",
              "    <tr style=\"text-align: right;\">\n",
              "      <th></th>\n",
              "      <th>OCCUR_DATE</th>\n",
              "      <th>OCCUR_TIME</th>\n",
              "      <th>BORO</th>\n",
              "      <th>PRECINCT</th>\n",
              "      <th>JURISDICTION_CODE</th>\n",
              "      <th>STATISTICAL_MURDER_FLAG</th>\n",
              "      <th>PERP_AGE_GROUP</th>\n",
              "      <th>PERP_SEX</th>\n",
              "      <th>PERP_RACE</th>\n",
              "      <th>VIC_AGE_GROUP</th>\n",
              "      <th>...</th>\n",
              "      <th>VIC_RACE</th>\n",
              "      <th>X_COORD_CD</th>\n",
              "      <th>Y_COORD_CD</th>\n",
              "      <th>Latitude</th>\n",
              "      <th>Longitude</th>\n",
              "      <th>Lon_Lat</th>\n",
              "      <th>Year</th>\n",
              "      <th>Month</th>\n",
              "      <th>Day</th>\n",
              "      <th>Hour</th>\n",
              "    </tr>\n",
              "  </thead>\n",
              "  <tbody>\n",
              "    <tr>\n",
              "      <th>9</th>\n",
              "      <td>03/07/2021</td>\n",
              "      <td>06:15:00</td>\n",
              "      <td>BROOKLYN</td>\n",
              "      <td>75</td>\n",
              "      <td>0.0</td>\n",
              "      <td>True</td>\n",
              "      <td>25-44</td>\n",
              "      <td>M</td>\n",
              "      <td>BLACK HISPANIC</td>\n",
              "      <td>25-44</td>\n",
              "      <td>...</td>\n",
              "      <td>WHITE HISPANIC</td>\n",
              "      <td>1.020492e+06</td>\n",
              "      <td>187865.000000</td>\n",
              "      <td>40.682257</td>\n",
              "      <td>-73.869331</td>\n",
              "      <td>POINT (-73.86933111399996 40.68225681500007)</td>\n",
              "      <td>2021</td>\n",
              "      <td>3</td>\n",
              "      <td>6</td>\n",
              "      <td>6</td>\n",
              "    </tr>\n",
              "    <tr>\n",
              "      <th>12</th>\n",
              "      <td>05/09/2021</td>\n",
              "      <td>02:50:00</td>\n",
              "      <td>BRONX</td>\n",
              "      <td>41</td>\n",
              "      <td>2.0</td>\n",
              "      <td>True</td>\n",
              "      <td>25-44</td>\n",
              "      <td>M</td>\n",
              "      <td>BLACK</td>\n",
              "      <td>25-44</td>\n",
              "      <td>...</td>\n",
              "      <td>BLACK HISPANIC</td>\n",
              "      <td>1.014642e+06</td>\n",
              "      <td>240068.000000</td>\n",
              "      <td>40.825563</td>\n",
              "      <td>-73.890187</td>\n",
              "      <td>POINT (-73.89018728699995 40.82556269400004)</td>\n",
              "      <td>2021</td>\n",
              "      <td>5</td>\n",
              "      <td>6</td>\n",
              "      <td>2</td>\n",
              "    </tr>\n",
              "    <tr>\n",
              "      <th>17</th>\n",
              "      <td>06/16/2021</td>\n",
              "      <td>23:22:00</td>\n",
              "      <td>BRONX</td>\n",
              "      <td>52</td>\n",
              "      <td>0.0</td>\n",
              "      <td>True</td>\n",
              "      <td>25-44</td>\n",
              "      <td>M</td>\n",
              "      <td>BLACK</td>\n",
              "      <td>25-44</td>\n",
              "      <td>...</td>\n",
              "      <td>BLACK</td>\n",
              "      <td>1.014313e+06</td>\n",
              "      <td>254123.000000</td>\n",
              "      <td>40.864141</td>\n",
              "      <td>-73.891313</td>\n",
              "      <td>POINT (-73.89131303799998 40.864140648000046)</td>\n",
              "      <td>2021</td>\n",
              "      <td>6</td>\n",
              "      <td>2</td>\n",
              "      <td>23</td>\n",
              "    </tr>\n",
              "    <tr>\n",
              "      <th>25</th>\n",
              "      <td>08/13/2021</td>\n",
              "      <td>01:00:00</td>\n",
              "      <td>QUEENS</td>\n",
              "      <td>109</td>\n",
              "      <td>0.0</td>\n",
              "      <td>True</td>\n",
              "      <td>18-24</td>\n",
              "      <td>M</td>\n",
              "      <td>BLACK</td>\n",
              "      <td>18-24</td>\n",
              "      <td>...</td>\n",
              "      <td>BLACK</td>\n",
              "      <td>1.031552e+06</td>\n",
              "      <td>216518.000000</td>\n",
              "      <td>40.760850</td>\n",
              "      <td>-73.829253</td>\n",
              "      <td>POINT (-73.82925306599996 40.760850049000055)</td>\n",
              "      <td>2021</td>\n",
              "      <td>8</td>\n",
              "      <td>4</td>\n",
              "      <td>1</td>\n",
              "    </tr>\n",
              "    <tr>\n",
              "      <th>35</th>\n",
              "      <td>09/13/2021</td>\n",
              "      <td>00:35:00</td>\n",
              "      <td>MANHATTAN</td>\n",
              "      <td>32</td>\n",
              "      <td>0.0</td>\n",
              "      <td>True</td>\n",
              "      <td>18-24</td>\n",
              "      <td>M</td>\n",
              "      <td>BLACK</td>\n",
              "      <td>18-24</td>\n",
              "      <td>...</td>\n",
              "      <td>BLACK</td>\n",
              "      <td>1.001369e+06</td>\n",
              "      <td>236689.000000</td>\n",
              "      <td>40.816324</td>\n",
              "      <td>-73.938155</td>\n",
              "      <td>POINT (-73.93815467099995 40.81632399000005)</td>\n",
              "      <td>2021</td>\n",
              "      <td>9</td>\n",
              "      <td>0</td>\n",
              "      <td>0</td>\n",
              "    </tr>\n",
              "    <tr>\n",
              "      <th>...</th>\n",
              "      <td>...</td>\n",
              "      <td>...</td>\n",
              "      <td>...</td>\n",
              "      <td>...</td>\n",
              "      <td>...</td>\n",
              "      <td>...</td>\n",
              "      <td>...</td>\n",
              "      <td>...</td>\n",
              "      <td>...</td>\n",
              "      <td>...</td>\n",
              "      <td>...</td>\n",
              "      <td>...</td>\n",
              "      <td>...</td>\n",
              "      <td>...</td>\n",
              "      <td>...</td>\n",
              "      <td>...</td>\n",
              "      <td>...</td>\n",
              "      <td>...</td>\n",
              "      <td>...</td>\n",
              "      <td>...</td>\n",
              "      <td>...</td>\n",
              "    </tr>\n",
              "    <tr>\n",
              "      <th>25556</th>\n",
              "      <td>08/22/2015</td>\n",
              "      <td>07:30:00</td>\n",
              "      <td>BROOKLYN</td>\n",
              "      <td>83</td>\n",
              "      <td>0.0</td>\n",
              "      <td>True</td>\n",
              "      <td>25-44</td>\n",
              "      <td>M</td>\n",
              "      <td>WHITE HISPANIC</td>\n",
              "      <td>25-44</td>\n",
              "      <td>...</td>\n",
              "      <td>WHITE HISPANIC</td>\n",
              "      <td>1.005154e+06</td>\n",
              "      <td>194758.609375</td>\n",
              "      <td>40.701228</td>\n",
              "      <td>-73.924610</td>\n",
              "      <td>POINT (-73.92460963299999 40.70122768700003)</td>\n",
              "      <td>2015</td>\n",
              "      <td>8</td>\n",
              "      <td>5</td>\n",
              "      <td>7</td>\n",
              "    </tr>\n",
              "    <tr>\n",
              "      <th>25569</th>\n",
              "      <td>11/15/2019</td>\n",
              "      <td>20:22:00</td>\n",
              "      <td>BRONX</td>\n",
              "      <td>46</td>\n",
              "      <td>0.0</td>\n",
              "      <td>True</td>\n",
              "      <td>&lt;18</td>\n",
              "      <td>M</td>\n",
              "      <td>BLACK</td>\n",
              "      <td>25-44</td>\n",
              "      <td>...</td>\n",
              "      <td>BLACK</td>\n",
              "      <td>1.006957e+06</td>\n",
              "      <td>248722.812500</td>\n",
              "      <td>40.849341</td>\n",
              "      <td>-73.917927</td>\n",
              "      <td>POINT (-73.91792721899998 40.84934073900007)</td>\n",
              "      <td>2019</td>\n",
              "      <td>11</td>\n",
              "      <td>4</td>\n",
              "      <td>20</td>\n",
              "    </tr>\n",
              "    <tr>\n",
              "      <th>25576</th>\n",
              "      <td>08/23/2012</td>\n",
              "      <td>13:22:00</td>\n",
              "      <td>BRONX</td>\n",
              "      <td>44</td>\n",
              "      <td>0.0</td>\n",
              "      <td>True</td>\n",
              "      <td>45-64</td>\n",
              "      <td>M</td>\n",
              "      <td>BLACK</td>\n",
              "      <td>45-64</td>\n",
              "      <td>...</td>\n",
              "      <td>BLACK</td>\n",
              "      <td>1.004886e+06</td>\n",
              "      <td>240825.343750</td>\n",
              "      <td>40.827670</td>\n",
              "      <td>-73.925437</td>\n",
              "      <td>POINT (-73.92543701999995 40.827669567000044)</td>\n",
              "      <td>2012</td>\n",
              "      <td>8</td>\n",
              "      <td>3</td>\n",
              "      <td>13</td>\n",
              "    </tr>\n",
              "    <tr>\n",
              "      <th>25578</th>\n",
              "      <td>09/15/2007</td>\n",
              "      <td>04:09:00</td>\n",
              "      <td>BROOKLYN</td>\n",
              "      <td>68</td>\n",
              "      <td>0.0</td>\n",
              "      <td>True</td>\n",
              "      <td>25-44</td>\n",
              "      <td>M</td>\n",
              "      <td>WHITE</td>\n",
              "      <td>25-44</td>\n",
              "      <td>...</td>\n",
              "      <td>WHITE</td>\n",
              "      <td>9.827961e+05</td>\n",
              "      <td>169177.234375</td>\n",
              "      <td>40.631037</td>\n",
              "      <td>-74.005239</td>\n",
              "      <td>POINT (-74.00523935499996 40.63103705800006)</td>\n",
              "      <td>2007</td>\n",
              "      <td>9</td>\n",
              "      <td>5</td>\n",
              "      <td>4</td>\n",
              "    </tr>\n",
              "    <tr>\n",
              "      <th>25588</th>\n",
              "      <td>08/26/2013</td>\n",
              "      <td>13:25:00</td>\n",
              "      <td>BROOKLYN</td>\n",
              "      <td>75</td>\n",
              "      <td>0.0</td>\n",
              "      <td>True</td>\n",
              "      <td>18-24</td>\n",
              "      <td>M</td>\n",
              "      <td>BLACK</td>\n",
              "      <td>25-44</td>\n",
              "      <td>...</td>\n",
              "      <td>ASIAN / PACIFIC ISLANDER</td>\n",
              "      <td>1.014019e+06</td>\n",
              "      <td>180484.187500</td>\n",
              "      <td>40.662022</td>\n",
              "      <td>-73.892700</td>\n",
              "      <td>POINT (-73.89270047199994 40.662022285000035)</td>\n",
              "      <td>2013</td>\n",
              "      <td>8</td>\n",
              "      <td>0</td>\n",
              "      <td>13</td>\n",
              "    </tr>\n",
              "  </tbody>\n",
              "</table>\n",
              "<p>3222 rows × 21 columns</p>\n",
              "</div>\n",
              "      <button class=\"colab-df-convert\" onclick=\"convertToInteractive('df-3c37f56b-d80c-45ec-aeb8-59cccba69312')\"\n",
              "              title=\"Convert this dataframe to an interactive table.\"\n",
              "              style=\"display:none;\">\n",
              "        \n",
              "  <svg xmlns=\"http://www.w3.org/2000/svg\" height=\"24px\"viewBox=\"0 0 24 24\"\n",
              "       width=\"24px\">\n",
              "    <path d=\"M0 0h24v24H0V0z\" fill=\"none\"/>\n",
              "    <path d=\"M18.56 5.44l.94 2.06.94-2.06 2.06-.94-2.06-.94-.94-2.06-.94 2.06-2.06.94zm-11 1L8.5 8.5l.94-2.06 2.06-.94-2.06-.94L8.5 2.5l-.94 2.06-2.06.94zm10 10l.94 2.06.94-2.06 2.06-.94-2.06-.94-.94-2.06-.94 2.06-2.06.94z\"/><path d=\"M17.41 7.96l-1.37-1.37c-.4-.4-.92-.59-1.43-.59-.52 0-1.04.2-1.43.59L10.3 9.45l-7.72 7.72c-.78.78-.78 2.05 0 2.83L4 21.41c.39.39.9.59 1.41.59.51 0 1.02-.2 1.41-.59l7.78-7.78 2.81-2.81c.8-.78.8-2.07 0-2.86zM5.41 20L4 18.59l7.72-7.72 1.47 1.35L5.41 20z\"/>\n",
              "  </svg>\n",
              "      </button>\n",
              "      \n",
              "  <style>\n",
              "    .colab-df-container {\n",
              "      display:flex;\n",
              "      flex-wrap:wrap;\n",
              "      gap: 12px;\n",
              "    }\n",
              "\n",
              "    .colab-df-convert {\n",
              "      background-color: #E8F0FE;\n",
              "      border: none;\n",
              "      border-radius: 50%;\n",
              "      cursor: pointer;\n",
              "      display: none;\n",
              "      fill: #1967D2;\n",
              "      height: 32px;\n",
              "      padding: 0 0 0 0;\n",
              "      width: 32px;\n",
              "    }\n",
              "\n",
              "    .colab-df-convert:hover {\n",
              "      background-color: #E2EBFA;\n",
              "      box-shadow: 0px 1px 2px rgba(60, 64, 67, 0.3), 0px 1px 3px 1px rgba(60, 64, 67, 0.15);\n",
              "      fill: #174EA6;\n",
              "    }\n",
              "\n",
              "    [theme=dark] .colab-df-convert {\n",
              "      background-color: #3B4455;\n",
              "      fill: #D2E3FC;\n",
              "    }\n",
              "\n",
              "    [theme=dark] .colab-df-convert:hover {\n",
              "      background-color: #434B5C;\n",
              "      box-shadow: 0px 1px 3px 1px rgba(0, 0, 0, 0.15);\n",
              "      filter: drop-shadow(0px 1px 2px rgba(0, 0, 0, 0.3));\n",
              "      fill: #FFFFFF;\n",
              "    }\n",
              "  </style>\n",
              "\n",
              "      <script>\n",
              "        const buttonEl =\n",
              "          document.querySelector('#df-3c37f56b-d80c-45ec-aeb8-59cccba69312 button.colab-df-convert');\n",
              "        buttonEl.style.display =\n",
              "          google.colab.kernel.accessAllowed ? 'block' : 'none';\n",
              "\n",
              "        async function convertToInteractive(key) {\n",
              "          const element = document.querySelector('#df-3c37f56b-d80c-45ec-aeb8-59cccba69312');\n",
              "          const dataTable =\n",
              "            await google.colab.kernel.invokeFunction('convertToInteractive',\n",
              "                                                     [key], {});\n",
              "          if (!dataTable) return;\n",
              "\n",
              "          const docLinkHtml = 'Like what you see? Visit the ' +\n",
              "            '<a target=\"_blank\" href=https://colab.research.google.com/notebooks/data_table.ipynb>data table notebook</a>'\n",
              "            + ' to learn more about interactive tables.';\n",
              "          element.innerHTML = '';\n",
              "          dataTable['output_type'] = 'display_data';\n",
              "          await google.colab.output.renderOutput(dataTable, element);\n",
              "          const docLink = document.createElement('div');\n",
              "          docLink.innerHTML = docLinkHtml;\n",
              "          element.appendChild(docLink);\n",
              "        }\n",
              "      </script>\n",
              "    </div>\n",
              "  </div>\n",
              "  "
            ]
          },
          "metadata": {},
          "execution_count": 94
        }
      ],
      "source": [
        "#total Number of Deaths\n",
        "nypd_death=nypd.loc[nypd[\"STATISTICAL_MURDER_FLAG\" ]== True]\n",
        "nypd_death"
      ]
    },
    {
      "cell_type": "code",
      "execution_count": 95,
      "metadata": {
        "id": "zt2kbCbM5QlH",
        "outputId": "97d36d38-ce48-47ef-d93b-4bfe8163d739",
        "colab": {
          "base_uri": "https://localhost:8080/"
        }
      },
      "outputs": [
        {
          "output_type": "execute_result",
          "data": {
            "text/plain": [
              "BORO\n",
              "BRONX            1042\n",
              "BROOKLYN         1136\n",
              "MANHATTAN         427\n",
              "QUEENS            489\n",
              "STATEN ISLAND     128\n",
              "Name: BORO, dtype: int64"
            ]
          },
          "metadata": {},
          "execution_count": 95
        }
      ],
      "source": [
        "# Total Number of Death by boro\n",
        "death_boro=nypd_death.groupby(\"BORO\")\n",
        "death_boro1=death_boro[\"BORO\"].count()\n",
        "death_boro1"
      ]
    },
    {
      "cell_type": "code",
      "execution_count": 96,
      "metadata": {
        "id": "nsnc0As_5QlH",
        "outputId": "66ba0b0a-e0f5-4086-a3a6-9c7697dbfcb4",
        "colab": {
          "base_uri": "https://localhost:8080/",
          "height": 347
        }
      },
      "outputs": [
        {
          "output_type": "display_data",
          "data": {
            "text/plain": [
              "<Figure size 720x288 with 1 Axes>"
            ],
            "image/png": "[encoded data removed]"
          },
          "metadata": {
            "needs_background": "light"
          }
        }
      ],
      "source": [
        "#Bar plot of total number of deaths each boro\n",
        "death_boro_plot=death_boro1.sort_values().plot(kind=\"bar\")"
      ]
    },
    {
      "cell_type": "code",
      "execution_count": 97,
      "metadata": {
        "id": "P_wGv30b5QlI",
        "outputId": "bbfac479-c7c6-41d4-ff69-f99491b15406",
        "colab": {
          "base_uri": "https://localhost:8080/"
        }
      },
      "outputs": [
        {
          "output_type": "execute_result",
          "data": {
            "text/plain": [
              "VIC_RACE\n",
              "ASIAN / PACIFIC ISLANDER      68\n",
              "BLACK                       2118\n",
              "BLACK HISPANIC               280\n",
              "UNKNOWN                        6\n",
              "WHITE                        149\n",
              "WHITE HISPANIC               601\n",
              "Name: VIC_RACE, dtype: int64"
            ]
          },
          "metadata": {},
          "execution_count": 97
        }
      ],
      "source": [
        "# Total Number of Death by race\n",
        "death_race=nypd_death.groupby(\"VIC_RACE\")\n",
        "death_race1=death_race[\"VIC_RACE\"].count()\n",
        "death_race1"
      ]
    },
    {
      "cell_type": "code",
      "execution_count": 98,
      "metadata": {
        "id": "eHsuUTFQ5QlI",
        "outputId": "e6342e62-c0e8-4de5-ba24-cb8bc0f71301",
        "colab": {
          "base_uri": "https://localhost:8080/"
        }
      },
      "outputs": [
        {
          "output_type": "execute_result",
          "data": {
            "text/plain": [
              "VIC_RACE\n",
              "ASIAN / PACIFIC ISLANDER      68\n",
              "BLACK                       2118\n",
              "BLACK HISPANIC               280\n",
              "WHITE                        149\n",
              "WHITE HISPANIC               601\n",
              "Name: VIC_RACE, dtype: int64"
            ]
          },
          "metadata": {},
          "execution_count": 98
        }
      ],
      "source": [
        "#dropping the unknown values\n",
        "death_race_2=death_race1.drop(\"UNKNOWN\")\n",
        "death_race_2"
      ]
    },
    {
      "cell_type": "code",
      "execution_count": 99,
      "metadata": {
        "id": "TQwXITqu5QlJ",
        "outputId": "5a4a9d5d-3399-46a2-9e29-827ad654167e",
        "colab": {
          "base_uri": "https://localhost:8080/",
          "height": 265
        }
      },
      "outputs": [
        {
          "output_type": "display_data",
          "data": {
            "text/plain": [
              "<Figure size 720x288 with 1 Axes>"
            ],
            "image/png": "[encoded data removed]"
          },
          "metadata": {
            "needs_background": "light"
          }
        }
      ],
      "source": [
        "#Bar plot of total number of deaths each race\n",
        "death_race_plot=death_race_2.sort_values().plot(kind=\"barh\", color='r')"
      ]
    },
    {
      "cell_type": "code",
      "execution_count": 100,
      "metadata": {
        "id": "5v1Z_Z3l5QlJ",
        "outputId": "1deab216-74bd-46c2-9589-db59a4d2825e",
        "colab": {
          "base_uri": "https://localhost:8080/"
        }
      },
      "outputs": [
        {
          "output_type": "execute_result",
          "data": {
            "text/plain": [
              "Index(['OCCUR_DATE', 'OCCUR_TIME', 'BORO', 'PRECINCT', 'JURISDICTION_CODE',\n",
              "       'STATISTICAL_MURDER_FLAG', 'PERP_AGE_GROUP', 'PERP_SEX', 'PERP_RACE',\n",
              "       'VIC_AGE_GROUP', 'VIC_SEX', 'VIC_RACE', 'X_COORD_CD', 'Y_COORD_CD',\n",
              "       'Latitude', 'Longitude', 'Lon_Lat', 'Year', 'Month', 'Day', 'Hour'],\n",
              "      dtype='object')"
            ]
          },
          "metadata": {},
          "execution_count": 100
        }
      ],
      "source": [
        "nypd_death.columns"
      ]
    },
    {
      "cell_type": "code",
      "execution_count": 101,
      "metadata": {
        "id": "fJa2NVBI5QlK",
        "outputId": "53b770c3-a200-4083-d1cf-dfa241dffbcb",
        "colab": {
          "base_uri": "https://localhost:8080/"
        }
      },
      "outputs": [
        {
          "output_type": "execute_result",
          "data": {
            "text/plain": [
              "VIC_AGE_GROUP\n",
              "18-24      1068\n",
              "25-44      1564\n",
              "45-64       278\n",
              "65+          40\n",
              "<18         260\n",
              "UNKNOWN      12\n",
              "Name: VIC_AGE_GROUP, dtype: int64"
            ]
          },
          "metadata": {},
          "execution_count": 101
        }
      ],
      "source": [
        "# Total Number of Death by age\n",
        "death_age=nypd_death.groupby(\"VIC_AGE_GROUP\")\n",
        "death_age_1=death_age[\"VIC_AGE_GROUP\"].count()\n",
        "death_age_1"
      ]
    },
    {
      "cell_type": "code",
      "execution_count": 102,
      "metadata": {
        "id": "xSqWysRW5QlK",
        "outputId": "c283d871-2c73-4136-b280-d63b19393dfb",
        "colab": {
          "base_uri": "https://localhost:8080/"
        }
      },
      "outputs": [
        {
          "output_type": "execute_result",
          "data": {
            "text/plain": [
              "VIC_AGE_GROUP\n",
              "18-24    1068\n",
              "25-44    1564\n",
              "45-64     278\n",
              "65+        40\n",
              "<18       260\n",
              "Name: VIC_AGE_GROUP, dtype: int64"
            ]
          },
          "metadata": {},
          "execution_count": 102
        }
      ],
      "source": [
        "#dropping the unknown values\n",
        "death_age_2=death_age_1.drop(\"UNKNOWN\")\n",
        "death_age_2"
      ]
    },
    {
      "cell_type": "code",
      "execution_count": 103,
      "metadata": {
        "id": "CABGQuS-5QlK",
        "outputId": "7dc0a5bf-50d8-4b08-afab-409ac364b2c8",
        "colab": {
          "base_uri": "https://localhost:8080/",
          "height": 299
        }
      },
      "outputs": [
        {
          "output_type": "display_data",
          "data": {
            "text/plain": [
              "<Figure size 720x288 with 1 Axes>"
            ],
            "image/png": "[encoded data removed]"
          },
          "metadata": {
            "needs_background": "light"
          }
        }
      ],
      "source": [
        "#Bar plot of total number of deaths each race\n",
        "death_age_plot=death_age_2.plot(kind=\"bar\", color='g')"
      ]
    },
    {
      "cell_type": "code",
      "execution_count": 104,
      "metadata": {
        "scrolled": true,
        "id": "x7gw39Of5QlL",
        "outputId": "371af992-4fc7-41d8-fd46-83592bc71fc9",
        "colab": {
          "base_uri": "https://localhost:8080/"
        }
      },
      "outputs": [
        {
          "output_type": "stream",
          "name": "stdout",
          "text": [
            "       OCCUR_DATE OCCUR_TIME       BORO  PRECINCT  JURISDICTION_CODE  \\\n",
            "9      03/07/2021   06:15:00   BROOKLYN        75                0.0   \n",
            "12     05/09/2021   02:50:00      BRONX        41                2.0   \n",
            "17     06/16/2021   23:22:00      BRONX        52                0.0   \n",
            "25     08/13/2021   01:00:00     QUEENS       109                0.0   \n",
            "35     09/13/2021   00:35:00  MANHATTAN        32                0.0   \n",
            "...           ...        ...        ...       ...                ...   \n",
            "25556  08/22/2015   07:30:00   BROOKLYN        83                0.0   \n",
            "25569  11/15/2019   20:22:00      BRONX        46                0.0   \n",
            "25576  08/23/2012   13:22:00      BRONX        44                0.0   \n",
            "25578  09/15/2007   04:09:00   BROOKLYN        68                0.0   \n",
            "25588  08/26/2013   13:25:00   BROOKLYN        75                0.0   \n",
            "\n",
            "       STATISTICAL_MURDER_FLAG PERP_AGE_GROUP PERP_SEX       PERP_RACE  \\\n",
            "9                         True          25-44        M  BLACK HISPANIC   \n",
            "12                        True          25-44        M           BLACK   \n",
            "17                        True          25-44        M           BLACK   \n",
            "25                        True          18-24        M           BLACK   \n",
            "35                        True          18-24        M           BLACK   \n",
            "...                        ...            ...      ...             ...   \n",
            "25556                     True          25-44        M  WHITE HISPANIC   \n",
            "25569                     True            <18        M           BLACK   \n",
            "25576                     True          45-64        M           BLACK   \n",
            "25578                     True          25-44        M           WHITE   \n",
            "25588                     True          18-24        M           BLACK   \n",
            "\n",
            "      VIC_AGE_GROUP  ...                  VIC_RACE    X_COORD_CD  \\\n",
            "9             25-44  ...            WHITE HISPANIC  1.020492e+06   \n",
            "12            25-44  ...            BLACK HISPANIC  1.014642e+06   \n",
            "17            25-44  ...                     BLACK  1.014313e+06   \n",
            "25            18-24  ...                     BLACK  1.031552e+06   \n",
            "35            18-24  ...                     BLACK  1.001369e+06   \n",
            "...             ...  ...                       ...           ...   \n",
            "25556         25-44  ...            WHITE HISPANIC  1.005154e+06   \n",
            "25569         25-44  ...                     BLACK  1.006957e+06   \n",
            "25576         45-64  ...                     BLACK  1.004886e+06   \n",
            "25578         25-44  ...                     WHITE  9.827961e+05   \n",
            "25588         25-44  ...  ASIAN / PACIFIC ISLANDER  1.014019e+06   \n",
            "\n",
            "          Y_COORD_CD   Latitude  Longitude  \\\n",
            "9      187865.000000  40.682257 -73.869331   \n",
            "12     240068.000000  40.825563 -73.890187   \n",
            "17     254123.000000  40.864141 -73.891313   \n",
            "25     216518.000000  40.760850 -73.829253   \n",
            "35     236689.000000  40.816324 -73.938155   \n",
            "...              ...        ...        ...   \n",
            "25556  194758.609375  40.701228 -73.924610   \n",
            "25569  248722.812500  40.849341 -73.917927   \n",
            "25576  240825.343750  40.827670 -73.925437   \n",
            "25578  169177.234375  40.631037 -74.005239   \n",
            "25588  180484.187500  40.662022 -73.892700   \n",
            "\n",
            "                                             Lon_Lat  Year  Month  Day  Hour  \n",
            "9       POINT (-73.86933111399996 40.68225681500007)  2021      3    6     6  \n",
            "12      POINT (-73.89018728699995 40.82556269400004)  2021      5    6     2  \n",
            "17     POINT (-73.89131303799998 40.864140648000046)  2021      6    2    23  \n",
            "25     POINT (-73.82925306599996 40.760850049000055)  2021      8    4     1  \n",
            "35      POINT (-73.93815467099995 40.81632399000005)  2021      9    0     0  \n",
            "...                                              ...   ...    ...  ...   ...  \n",
            "25556   POINT (-73.92460963299999 40.70122768700003)  2015      8    5     7  \n",
            "25569   POINT (-73.91792721899998 40.84934073900007)  2019     11    4    20  \n",
            "25576  POINT (-73.92543701999995 40.827669567000044)  2012      8    3    13  \n",
            "25578   POINT (-74.00523935499996 40.63103705800006)  2007      9    5     4  \n",
            "25588  POINT (-73.89270047199994 40.662022285000035)  2013      8    0    13  \n",
            "\n",
            "[3222 rows x 21 columns]\n"
          ]
        },
        {
          "output_type": "stream",
          "name": "stderr",
          "text": [
            "/usr/local/lib/python3.7/dist-packages/ipykernel_launcher.py:8: SettingWithCopyWarning: \n",
            "A value is trying to be set on a copy of a slice from a DataFrame.\n",
            "Try using .loc[row_indexer,col_indexer] = value instead\n",
            "\n",
            "See the caveats in the documentation: https://pandas.pydata.org/pandas-docs/stable/user_guide/indexing.html#returning-a-view-versus-a-copy\n",
            "  \n",
            "/usr/local/lib/python3.7/dist-packages/ipykernel_launcher.py:9: SettingWithCopyWarning: \n",
            "A value is trying to be set on a copy of a slice from a DataFrame.\n",
            "Try using .loc[row_indexer,col_indexer] = value instead\n",
            "\n",
            "See the caveats in the documentation: https://pandas.pydata.org/pandas-docs/stable/user_guide/indexing.html#returning-a-view-versus-a-copy\n",
            "  if __name__ == '__main__':\n",
            "/usr/local/lib/python3.7/dist-packages/ipykernel_launcher.py:10: SettingWithCopyWarning: \n",
            "A value is trying to be set on a copy of a slice from a DataFrame.\n",
            "Try using .loc[row_indexer,col_indexer] = value instead\n",
            "\n",
            "See the caveats in the documentation: https://pandas.pydata.org/pandas-docs/stable/user_guide/indexing.html#returning-a-view-versus-a-copy\n",
            "  # Remove the CWD from sys.path while we load stuff.\n",
            "/usr/local/lib/python3.7/dist-packages/ipykernel_launcher.py:11: SettingWithCopyWarning: \n",
            "A value is trying to be set on a copy of a slice from a DataFrame.\n",
            "Try using .loc[row_indexer,col_indexer] = value instead\n",
            "\n",
            "See the caveats in the documentation: https://pandas.pydata.org/pandas-docs/stable/user_guide/indexing.html#returning-a-view-versus-a-copy\n",
            "  # This is added back by InteractiveShellApp.init_path()\n"
          ]
        }
      ],
      "source": [
        "#Convert to datetime data type to extract year and month , and add year and month columns to dataframe\n",
        "\n",
        "date_col = (pd.DatetimeIndex(nypd_death['OCCUR_DATE']))\n",
        "time_col = (pd.DatetimeIndex(nypd_death['OCCUR_TIME']))\n",
        "\n",
        "#print(date_values)\n",
        "\n",
        "nypd_death['Year'] = date_col.year\n",
        "nypd_death['Month'] = date_col.month\n",
        "nypd_death['Day'] = date_col.weekday\n",
        "nypd_death['Hour'] = time_col.hour\n",
        "\n",
        "print(nypd_death)"
      ]
    },
    {
      "cell_type": "code",
      "execution_count": 105,
      "metadata": {
        "id": "bmTVAqUa5QlL",
        "outputId": "a02de06e-6615-4897-bb91-1b00688b8844",
        "colab": {
          "base_uri": "https://localhost:8080/"
        }
      },
      "outputs": [
        {
          "output_type": "execute_result",
          "data": {
            "text/plain": [
              "Year\n",
              "2006    378\n",
              "2007    243\n",
              "2008    240\n",
              "2009    234\n",
              "2010    216\n",
              "2011    221\n",
              "2012    169\n",
              "2013    143\n",
              "2014    159\n",
              "2015    186\n",
              "2016    147\n",
              "2017    129\n",
              "2018    147\n",
              "2019    122\n",
              "2020    214\n",
              "2021    274\n",
              "Name: Year, dtype: int64"
            ]
          },
          "metadata": {},
          "execution_count": 105
        }
      ],
      "source": [
        "#Incident Counts by Year\n",
        "\n",
        "inc_year = nypd_death.groupby('Year')\n",
        "inc_year_1 = inc_year['Year'].count()\n",
        "inc_year_1"
      ]
    },
    {
      "cell_type": "code",
      "execution_count": 106,
      "metadata": {
        "id": "O35C4uhh5QlM",
        "outputId": "f49ff580-becb-490e-8ce7-bdcd9e8318e9",
        "colab": {
          "base_uri": "https://localhost:8080/",
          "height": 304
        }
      },
      "outputs": [
        {
          "output_type": "display_data",
          "data": {
            "text/plain": [
              "<Figure size 720x288 with 1 Axes>"
            ],
            "image/png": "[encoded data removed]"
          },
          "metadata": {
            "needs_background": "light"
          }
        }
      ],
      "source": [
        "#Bar Chart showing Shooting Incidents by Year\n",
        "\n",
        "inc_year_plot = inc_year_1.plot(kind='line', color = 'b',marker='o')\n",
        "inc_year_plot.set_xlabel(\"Year\",fontsize = 14)\n",
        "inc_year_plot.set_ylabel(\"Number of Dead Victims\",fontsize = 14)\n",
        "inc_year_plot.set_title(\"Number of Dead Victims by Year\",fontsize = 20)\n",
        "plt.show()"
      ]
    }
  ]
}